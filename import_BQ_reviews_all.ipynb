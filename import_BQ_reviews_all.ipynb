{
 "cells": [
  {
   "cell_type": "code",
   "execution_count": 14,
   "id": "c0e63cfb-95ca-4ae9-953a-bb828bbccf7c",
   "metadata": {
    "tags": []
   },
   "outputs": [],
   "source": [
    "%reset -f"
   ]
  },
  {
   "cell_type": "code",
   "execution_count": 1,
   "id": "a70b5334-7e96-4729-bbea-a1568efbe9a1",
   "metadata": {
    "tags": []
   },
   "outputs": [
    {
     "name": "stdout",
     "output_type": "stream",
     "text": [
      "INFO: Pandarallel will run on 2 workers.\n",
      "INFO: Pandarallel will use standard multiprocessing data transfer (pipe) to transfer data between the main process and workers.\n"
     ]
    }
   ],
   "source": [
    "import pandas as pd\n",
    "import numpy as np\n",
    "import json\n",
    "pd.set_option('display.max_columns', None)\n",
    "\n",
    "import warnings\n",
    "warnings.filterwarnings('ignore')\n",
    "\n",
    "from tqdm import tqdm\n",
    "tqdm.pandas()\n",
    "\n",
    "from datetime import datetime\n",
    "\n",
    "from pandarallel import pandarallel\n",
    "pandarallel.initialize(progress_bar=False,nb_workers=2)"
   ]
  },
  {
   "cell_type": "code",
   "execution_count": 2,
   "id": "5191f3b4-8871-4f4b-8015-1710e719520a",
   "metadata": {
    "editable": true,
    "slideshow": {
     "slide_type": ""
    },
    "tags": []
   },
   "outputs": [],
   "source": [
    "import google.auth\n",
    "from google.oauth2 import service_account\n",
    "from google.cloud import bigquery\n",
    "\n",
    "credentials = service_account.Credentials.from_service_account_file('Cashbac-GCP-Keys.json')\n",
    "project_id = 'cashbac-31433'\n",
    "\n",
    "# Make clients.\n",
    "cashbac_bqclient = bigquery.Client(\n",
    "    credentials=credentials,\n",
    "    project=project_id,\n",
    ")"
   ]
  },
  {
   "cell_type": "markdown",
   "id": "1ddda431-d054-4e5b-88bb-81f37aa6ece6",
   "metadata": {},
   "source": [
    "# IMPORT BQ NEW WAY"
   ]
  },
  {
   "cell_type": "code",
   "execution_count": 4,
   "id": "8fe2513e-119b-4019-8d40-35ad04c31e49",
   "metadata": {
    "tags": []
   },
   "outputs": [
    {
     "name": "stdout",
     "output_type": "stream",
     "text": [
      "INFO: Pandarallel will run on 2 workers.\n",
      "INFO: Pandarallel will use standard multiprocessing data transfer (pipe) to transfer data between the main process and workers.\n",
      "INFO: Pandarallel will run on 2 workers.\n",
      "INFO: Pandarallel will use standard multiprocessing data transfer (pipe) to transfer data between the main process and workers.\n"
     ]
    }
   ],
   "source": [
    "import MyFunc\n",
    "# from MyFunc import cleaning_data_merchants,filtering_data_merchants,get_post_code,upload_file_to_GCS,create_table_from_gcs,is_on_radius,get_hot_area\n",
    "from MyFunc import *\n",
    "\n",
    "from importlib import reload\n",
    "reload(MyFunc)\n",
    "from MyFunc import *\n",
    "# cleaning_data_merchants,filtering_data_merchants,get_post_code,upload_file_to_GCS,create_table_from_gcs,is_on_radius,get_hot_area"
   ]
  },
  {
   "cell_type": "code",
   "execution_count": 5,
   "id": "6abe9df5-4f5a-4d15-a3e6-2c8b4499b4da",
   "metadata": {
    "tags": []
   },
   "outputs": [],
   "source": [
    "def split_indo_foreign_text(input_text):\n",
    "    input_text=str(input_text)\n",
    "    if len(input_text.split('(Asli)'))>1 :\n",
    "        result=input_text.replace('(Diterjemahkan oleh Google)','').split('(Asli)')\n",
    "        indo_text=result[0].strip()\n",
    "        foreign_text=result[1].strip()\n",
    "    elif len(input_text.split('(Diterjemahkan oleh Google)'))>1 :\n",
    "        result=input_text.replace('(Asli) ','').split('(Diterjemahkan oleh Google)')\n",
    "        indo_text=result[1].strip()\n",
    "        foreign_text=result[0].strip()\n",
    "    else:\n",
    "        indo_text=input_text\n",
    "        foreign_text=None\n",
    "        \n",
    "    return pd.Series([indo_text,foreign_text])\n",
    "\n",
    "def cleaning_reviews(data):\n",
    "    new_columns=[]\n",
    "    for column in data.columns :\n",
    "        column=column.lower()\n",
    "        new_columns.append(column.replace(' ','_'))\n",
    "        try:\n",
    "            data[column]=data[column].str.replace(';','').str.replace('\"','').str.replace('\\n',' ').str.replace('\\r','').str.replace('\\t','')\n",
    "        except:\n",
    "            pass\n",
    "\n",
    "    data.columns=new_columns\n",
    "    data[['indo_text','foreign_text']]=data.review_text.parallel_apply(split_indo_foreign_text)\n",
    "    new_columns=list(data.columns[:15])+['indo_text','foreign_text']+list(data.columns[15:-2])\n",
    "    data=data[new_columns]\n",
    "    return data"
   ]
  },
  {
   "cell_type": "code",
   "execution_count": 7,
   "id": "02eea2ac-c21d-4f65-865c-b454e7d7ed52",
   "metadata": {},
   "outputs": [
    {
     "name": "stdout",
     "output_type": "stream",
     "text": [
      "1\n",
      "CPU times: user 61.1 ms, sys: 24.3 ms, total: 85.4 ms\n",
      "Wall time: 1.31 s\n"
     ]
    }
   ],
   "source": [
    "%%time\n",
    "\n",
    "query_string=f\"\"\" \n",
    "\n",
    "SELECT * \n",
    "FROM `cashbac-31433.cashbac_datalake_prod.outcrapper_google_reviews_all` table1\n",
    "limit 1\n",
    "\n",
    "\"\"\"\n",
    "\n",
    "query_result = list(cashbac_bqclient.query(query_string).result(timeout=None))\n",
    "print(len(query_result))\n",
    "if len(query_result)>0:\n",
    "    df_temp = pd.DataFrame(data=[list(x.values()) for x in query_result], columns=list(query_result[0].keys()))"
   ]
  },
  {
   "cell_type": "code",
   "execution_count": 8,
   "id": "275052b7-f9c2-437e-b77c-38fc59301091",
   "metadata": {
    "scrolled": true,
    "tags": []
   },
   "outputs": [
    {
     "name": "stdout",
     "output_type": "stream",
     "text": [
      "20231107033642cd2f_reviews_horego_placelist_reupload.json\n",
      "Uploading results/temp_upload_review.csv\n",
      "Path in GCS: horego-bq/scrapping_results/reviews/20231107033642cd2f_reviews_horego_placelist_reupload.csv\n",
      "table on : horego_datalake_dev.outcrapper_google_reviews_all\n",
      "Uploading results/temp_upload_review.csv\n",
      "Path in GCS: cashbac_datalake/scrapping_results/reviews/20231107033642cd2f_reviews_horego_placelist_reupload.csv\n",
      "table on : cashbac_datalake_prod.outcrapper_google_reviews_all\n",
      "20231107063826fd41_reviews_horego_placelist_bandung.json\n",
      "Uploading results/temp_upload_review.csv\n",
      "Path in GCS: horego-bq/scrapping_results/reviews/20231107063826fd41_reviews_horego_placelist_bandung.csv\n",
      "table on : horego_datalake_dev.outcrapper_google_reviews_all\n",
      "Uploading results/temp_upload_review.csv\n",
      "Path in GCS: cashbac_datalake/scrapping_results/reviews/20231107063826fd41_reviews_horego_placelist_bandung.csv\n",
      "table on : cashbac_datalake_prod.outcrapper_google_reviews_all\n",
      "DONE\n",
      "CPU times: user 2.04 s, sys: 392 ms, total: 2.43 s\n",
      "Wall time: 31 s\n"
     ]
    }
   ],
   "source": [
    "%%time\n",
    "import os\n",
    "from google.cloud import bigquery\n",
    "\n",
    "cashbac_key='Cashbac-GCP-Keys.json'\n",
    "horego_key='Horego-GCP-Keys.json'\n",
    "\n",
    "scrappe_date='20231107'\n",
    "\n",
    "path = 'outcrapper_raw/reviews/'\n",
    "files = os.listdir(path)\n",
    "files = [f for f in files if os.path.isfile(path+'/'+f)]\n",
    "files.sort()\n",
    "\n",
    "# df_temp=pd.read_csv('results/clear_reviews_table.csv',sep=';', nrows=1)\n",
    "# my_schema=[]\n",
    "# for column in df_temp.columns :\n",
    "#     my_schema.append(bigquery.SchemaField(column, \"STRING\"))\n",
    "\n",
    "for file in files:\n",
    "    if '.json' in file and int(file[:8])>=int(scrappe_date):\n",
    "        print(file)\n",
    "        f = open(f'{path}{file}')\n",
    "        data = json.load(f)\n",
    "        data = pd.DataFrame.from_dict(data)\n",
    "        data = data[data.review_id!='__NO_REVIEWS_FOUND__']\n",
    "        \n",
    "        data['scrappe_date'] = datetime.strptime(file[:8], '%Y%m%d').strftime('%Y-%m-%d')\n",
    "        data=cleaning_reviews(data)\n",
    "\n",
    "        # df_temp=pd.read_csv('results/clear_reviews_table.csv',sep=';', nrows=1)\n",
    "        my_schema=[]\n",
    "        save_columns=[]\n",
    "        for column in df_temp.columns :\n",
    "            if column in data.columns :\n",
    "                save_columns.append(column)\n",
    "                my_schema.append(bigquery.SchemaField(column, \"STRING\"))\n",
    "            \n",
    "        \n",
    "        data[save_columns].to_csv('results/temp_upload_review.csv',sep=';',index=False)\n",
    "\n",
    "        #############################################################################################\n",
    "        #BQ DATALAKE HOREGO\n",
    "        src_path_file='results/temp_upload_review.csv'\n",
    "        target_path_file=f\"scrapping_results/reviews/{file.replace('.json','.csv')}\"\n",
    "        bucket_name='horego-bq'\n",
    "        upload_file_to_GCS(horego_key,bucket_name,src_path_file,target_path_file)\n",
    "\n",
    "        table_schema = \"horego_datalake_dev\"\n",
    "        table_name = \"outcrapper_google_reviews_all\"\n",
    "        gcs_path_uri = f\"gs://{bucket_name}/scrapping_results/reviews/{file.replace('.json','.csv')}\"\n",
    "        create_table_from_gcs(horego_key,gcs_path_uri,table_schema,table_name,my_schema,'append')\n",
    "        \n",
    "        #############################################################################################\n",
    "        #############################################################################################\n",
    "        #BQ DATALAKE CASHBAC\n",
    "        bucket_name='cashbac_datalake'\n",
    "        src_path_file='results/temp_upload_review.csv'\n",
    "        target_path_file=f\"scrapping_results/reviews/{file.replace('.json','.csv')}\"\n",
    "        upload_file_to_GCS(cashbac_key,bucket_name,src_path_file,target_path_file)\n",
    "\n",
    "        table_schema = \"cashbac_datalake_prod\"\n",
    "        table_name = \"outcrapper_google_reviews_all\"\n",
    "        gcs_path_uri = f\"gs://{bucket_name}/scrapping_results/reviews/{file.replace('.json','.csv')}\"\n",
    "        create_table_from_gcs(cashbac_key,gcs_path_uri,table_schema,table_name,my_schema,'append')\n",
    "    \n",
    "        #############################################################################################\n",
    " \n",
    "del data\n",
    "print('DONE')"
   ]
  }
 ],
 "metadata": {
  "kernelspec": {
   "display_name": "Python 3 (ipykernel)",
   "language": "python",
   "name": "python3"
  },
  "language_info": {
   "codemirror_mode": {
    "name": "ipython",
    "version": 3
   },
   "file_extension": ".py",
   "mimetype": "text/x-python",
   "name": "python",
   "nbconvert_exporter": "python",
   "pygments_lexer": "ipython3",
   "version": "3.10.11"
  }
 },
 "nbformat": 4,
 "nbformat_minor": 5
}
