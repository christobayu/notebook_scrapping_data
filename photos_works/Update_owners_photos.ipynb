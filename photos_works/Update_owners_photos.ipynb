{
 "cells": [
  {
   "cell_type": "code",
   "execution_count": 1,
   "id": "04a6b352-b1e5-47b9-8eaf-12a5d22a53f4",
   "metadata": {},
   "outputs": [
    {
     "name": "stdout",
     "output_type": "stream",
     "text": [
      "INFO: Pandarallel will run on 2 workers.\n",
      "INFO: Pandarallel will use standard multiprocessing data transfer (pipe) to transfer data between the main process and workers.\n"
     ]
    }
   ],
   "source": [
    "import warnings\n",
    "warnings.filterwarnings('ignore')\n",
    "\n",
    "import pandas as pd\n",
    "\n",
    "import numpy as np\n",
    "import json\n",
    "import os\n",
    "import urllib\n",
    "\n",
    "from imageai.Classification import ImageClassification\n",
    "\n",
    "from PIL import Image\n",
    "import requests\n",
    "\n",
    "pd.set_option('display.max_columns', None)\n",
    "\n",
    "from tqdm import tqdm\n",
    "tqdm.pandas()\n",
    "\n",
    "from datetime import datetime\n",
    "\n",
    "from pandarallel import pandarallel\n",
    "pandarallel.initialize(progress_bar=False,nb_workers=2)"
   ]
  },
  {
   "cell_type": "code",
   "execution_count": 2,
   "id": "a8612453-f4eb-4f26-a235-91d7b937e2d2",
   "metadata": {},
   "outputs": [],
   "source": [
    "import google.auth\n",
    "from google.oauth2 import service_account\n",
    "from google.cloud import bigquery\n",
    "\n",
    "credentials = service_account.Credentials.from_service_account_file('Cashbac-GCP-Keys.json')\n",
    "project_id = 'cashbac-31433'\n",
    "\n",
    "# Make clients.\n",
    "cashbac_bqclient = bigquery.Client(\n",
    "    credentials=credentials,\n",
    "    project=project_id,\n",
    ")\n",
    "\n",
    "import google.auth\n",
    "from google.oauth2 import service_account\n",
    "from google.cloud import bigquery\n",
    "\n",
    "credentials = service_account.Credentials.from_service_account_file('Horego-GCP-Keys.json')\n",
    "project_id = 'horego-big-query'\n",
    "\n",
    "# Make clients.\n",
    "horego_bqclient = bigquery.Client(\n",
    "    credentials=credentials,\n",
    "    project=project_id,\n",
    ")\n",
    "\n",
    "import psycopg2.pool\n",
    "def db_connect_cashbac_nopool(host,database,user,password):\n",
    "    \"\"\"\n",
    "    :return:\n",
    "    \"\"\"\n",
    "    connection = psycopg2.connect(host=host,\n",
    "                              database=database,\n",
    "                              user=user,\n",
    "                              password=password,\n",
    "                              port=5432)\n",
    "    return connection"
   ]
  },
  {
   "cell_type": "code",
   "execution_count": 8,
   "id": "240de880-cfc1-4d08-8d74-4b3bcf7a2cdb",
   "metadata": {},
   "outputs": [
    {
     "name": "stdout",
     "output_type": "stream",
     "text": [
      "INFO: Pandarallel will run on 2 workers.\n",
      "INFO: Pandarallel will use standard multiprocessing data transfer (pipe) to transfer data between the main process and workers.\n",
      "INFO: Pandarallel will run on 2 workers.\n",
      "INFO: Pandarallel will use standard multiprocessing data transfer (pipe) to transfer data between the main process and workers.\n"
     ]
    }
   ],
   "source": [
    "import sys\n",
    "import os\n",
    "\n",
    "cur_directory=os.getcwd()\n",
    "parent_directory=cur_directory[:cur_directory.rfind('/')]\n",
    "sys.path.append(parent_directory)\n",
    " \n",
    "# importing\n",
    "import MyFunc\n",
    "from MyFunc import *\n",
    "\n",
    "from importlib import reload\n",
    "reload(MyFunc)\n",
    "from MyFunc import *"
   ]
  },
  {
   "cell_type": "code",
   "execution_count": 14,
   "id": "7a1eb511-4f24-4073-8d47-b6b1c7017a71",
   "metadata": {},
   "outputs": [
    {
     "name": "stdout",
     "output_type": "stream",
     "text": [
      "https://docs.google.com/spreadsheets/d/1yisFNcEgIukwANaHMVSO7Z60TEihtscLwIcPIahTBys/edit?usp=sharing\n",
      "https://docs.google.com/spreadsheets/d/18WqJdJ5lGNcJ3GDZ2_zrV7rnRCBy7ZGFPqElslzwvi4/edit?usp=sharing\n",
      "https://docs.google.com/spreadsheets/d/1GCRdMQFx_kdDsiku0hzhvKgxJtdC4tzryQDSlR8Phrg/edit?usp=drive_link\n",
      "https://docs.google.com/spreadsheets/d/1GCRdMQFx_kdDsiku0hzhvKgxJtdC4tzryQDSlR8Phrg/edit?usp=drive_link\n",
      "https://docs.google.com/spreadsheets/d/1TIpIIeS0j4-yYXDrMokbgBOSIm1fOSUqmHXmKFFZBuw/edit?usp=drive_link\n",
      "https://docs.google.com/spreadsheets/d/1TIpIIeS0j4-yYXDrMokbgBOSIm1fOSUqmHXmKFFZBuw/edit?usp=drive_link\n",
      "https://docs.google.com/spreadsheets/d/1bO5mcyt-uj78HhX4xmZzs79MKOCPfiucXj_Z64dDSFY/edit?usp=drive_link\n",
      "https://docs.google.com/spreadsheets/d/1PWSw7j1CLFaorCyUz1t3pTyrx0BoatHZt2IycO5aG1g/edit?usp=drive_link\n",
      "https://docs.google.com/spreadsheets/d/1GNt66SoeoTO883PYp9uvxSOGlm1xAe8w9qwJMaAuM7g/edit?usp=drive_link\n",
      "https://docs.google.com/spreadsheets/d/16oxg_GKfE0PpRqRAmHS5xR9LfAzITS10GGmP1yeeQok/edit?usp=drive_link\n",
      "https://docs.google.com/spreadsheets/d/1yWIDsDhqBI0a6qxMWM8p5Xs5EyXXnqwgCwNVl9nVLek/edit?usp=drive_link\n",
      "https://docs.google.com/spreadsheets/d/1vs6gKO7tTEQZJdb3__rGoUWEAqvGElIAXdjOvOgkkj0/edit?usp=drive_link\n",
      "https://docs.google.com/spreadsheets/d/1vs6gKO7tTEQZJdb3__rGoUWEAqvGElIAXdjOvOgkkj0/edit?usp=drive_link\n",
      "https://docs.google.com/spreadsheets/d/12yPp7DFK6R58Sc29belYlN0nptr_yOTpSH1DA3MX5Xs/edit?usp=drive_link\n",
      "https://docs.google.com/spreadsheets/d/1q23vk_lzqcFfNDC5UvfugYfVD4_lbVH5HX-9NQPb1rs/edit?usp=drive_link\n",
      "https://docs.google.com/spreadsheets/d/1jBM0dYsgbJ8BOGBtBW74CRgQukKtWX4cwJ7WQEozrXE/edit?usp=sharing\n",
      "<class 'pandas.core.frame.DataFrame'>\n",
      "Index: 727675 entries, 1 to 54790\n",
      "Data columns (total 3 columns):\n",
      " #   Column         Non-Null Count   Dtype \n",
      "---  ------         --------------   ----- \n",
      " 0   place_id       727675 non-null  object\n",
      " 1   photo_url_big  727675 non-null  object\n",
      " 2   tags           727675 non-null  object\n",
      "dtypes: object(3)\n",
      "memory usage: 22.2+ MB\n",
      "CPU times: user 4.05 s, sys: 1.9 s, total: 5.95 s\n",
      "Wall time: 1min 34s\n"
     ]
    }
   ],
   "source": [
    "%%time\n",
    "import gspread as gs\n",
    "\n",
    "ListFileOwnerPhotos=['https://docs.google.com/spreadsheets/d/1yisFNcEgIukwANaHMVSO7Z60TEihtscLwIcPIahTBys/edit?usp=sharing'\n",
    ",'https://docs.google.com/spreadsheets/d/18WqJdJ5lGNcJ3GDZ2_zrV7rnRCBy7ZGFPqElslzwvi4/edit?usp=sharing'\n",
    ",'https://docs.google.com/spreadsheets/d/1GCRdMQFx_kdDsiku0hzhvKgxJtdC4tzryQDSlR8Phrg/edit?usp=drive_link'\n",
    ",'https://docs.google.com/spreadsheets/d/1TIpIIeS0j4-yYXDrMokbgBOSIm1fOSUqmHXmKFFZBuw/edit?usp=drive_link'\n",
    " ,'https://docs.google.com/spreadsheets/d/1bO5mcyt-uj78HhX4xmZzs79MKOCPfiucXj_Z64dDSFY/edit?usp=drive_link'\n",
    " ,'https://docs.google.com/spreadsheets/d/1PWSw7j1CLFaorCyUz1t3pTyrx0BoatHZt2IycO5aG1g/edit?usp=drive_link'\n",
    " ,'https://docs.google.com/spreadsheets/d/1GNt66SoeoTO883PYp9uvxSOGlm1xAe8w9qwJMaAuM7g/edit?usp=drive_link'\n",
    " ,'https://docs.google.com/spreadsheets/d/16oxg_GKfE0PpRqRAmHS5xR9LfAzITS10GGmP1yeeQok/edit?usp=drive_link'\n",
    " ,'https://docs.google.com/spreadsheets/d/1yWIDsDhqBI0a6qxMWM8p5Xs5EyXXnqwgCwNVl9nVLek/edit?usp=drive_link'\n",
    " ,'https://docs.google.com/spreadsheets/d/1vs6gKO7tTEQZJdb3__rGoUWEAqvGElIAXdjOvOgkkj0/edit?usp=drive_link'\n",
    " ,'https://docs.google.com/spreadsheets/d/12yPp7DFK6R58Sc29belYlN0nptr_yOTpSH1DA3MX5Xs/edit?usp=drive_link'\n",
    " ,'https://docs.google.com/spreadsheets/d/1q23vk_lzqcFfNDC5UvfugYfVD4_lbVH5HX-9NQPb1rs/edit?usp=drive_link'\n",
    ",'https://docs.google.com/spreadsheets/d/1jBM0dYsgbJ8BOGBtBW74CRgQukKtWX4cwJ7WQEozrXE/edit?usp=sharing'\n",
    "]\n",
    "\n",
    "gc = gs.service_account(filename='Horego-GCP-Keys.json')\n",
    "owner_photos=[]\n",
    "for file in ListFileOwnerPhotos:\n",
    "    print(file)\n",
    "    try:\n",
    "        sheet = gc.open_by_url(file)\n",
    "        worksheet = sheet.worksheet('Photo')\n",
    "    except:\n",
    "        print(file)\n",
    "    else:\n",
    "        data1 = pd.DataFrame(worksheet.get_all_values())\n",
    "        data1.columns=data1.iloc[0]\n",
    "        data1=data1[1:]\n",
    "        data1=data1[data1.Big_Img.isnull()==False]\n",
    "        data1['tags']='owner_photo'\n",
    "        data1=data1[['Place Id','Big_Img','tags']]\n",
    "        data1.columns=['place_id', 'photo_url_big', 'tags']\n",
    "        owner_photos.append(data1)\n",
    "        # data_owner_photos=pd.concat([owner_photos])\n",
    "\n",
    "data_owner_photos=pd.concat(owner_photos)\n",
    "data_owner_photos=data_owner_photos[data_owner_photos.photo_url_big!='']\n",
    "data_owner_photos=data_owner_photos.drop_duplicates()\n",
    "del data1\n",
    "data_owner_photos.info()"
   ]
  },
  {
   "cell_type": "code",
   "execution_count": 22,
   "id": "c927c0ba-444d-4733-af2d-1cc408f90aa2",
   "metadata": {},
   "outputs": [],
   "source": [
    "# my_schema=[]\n",
    "# for column in data_owner_photos.columns :\n",
    "#     my_schema.append(bigquery.SchemaField(column, \"STRING\"))\n",
    "    \n",
    "# data_owner_photos.drop_duplicates().to_csv('results/data_owner_photos.csv',sep=';',index=False)"
   ]
  },
  {
   "cell_type": "code",
   "execution_count": 23,
   "id": "fa78be6f-6acb-40a2-b01f-a7922e99937c",
   "metadata": {},
   "outputs": [
    {
     "name": "stdout",
     "output_type": "stream",
     "text": [
      "Uploading results/data_owner_photos.csv\n",
      "Path in GCS: horego-bq/scrapping_results/data_owner_photos.csv\n",
      "table on : horego_datalake_dev.data_owner_photos\n"
     ]
    }
   ],
   "source": [
    "cashbac_key='Cashbac-GCP-Keys.json'\n",
    "horego_key='Horego-GCP-Keys.json'\n",
    "\n",
    "#############################################################################################\n",
    "\n",
    "# src_path_file='results/data_owner_photos.csv'\n",
    "# target_path_file='scrapping_results/data_owner_photos.csv'\n",
    "# bucket_name='cashbac_datalake'\n",
    "# upload_file_to_GCS(cashbac_key,bucket_name,src_path_file,target_path_file)\n",
    "\n",
    "# table_schema = \"cashbac_datalake_prod\"\n",
    "# table_name = \"data_owner_photos\"\n",
    "# gcs_path_uri = f\"gs://{bucket_name}/scrapping_results/data_owner_photos.csv\"\n",
    "# create_table_from_gcs(cashbac_key,gcs_path_uri,table_schema,table_name,my_schema)\n",
    "\n",
    "############################################################################################\n",
    "# #BQ DATALAKE HOREGO\n",
    "# src_path_file='results/data_owner_photos.csv'\n",
    "# target_path_file='scrapping_results/data_owner_photos.csv'\n",
    "# bucket_name='horego-bq'\n",
    "# upload_file_to_GCS(horego_key,bucket_name,src_path_file,target_path_file)\n",
    "\n",
    "# table_schema = \"horego_datalake_dev\"\n",
    "# table_name = \"data_owner_photos\"\n",
    "# gcs_path_uri = f\"gs://{bucket_name}/scrapping_results/data_owner_photos.csv\"\n",
    "# create_table_from_gcs(horego_key,gcs_path_uri,table_schema,table_name,my_schema)\n"
   ]
  },
  {
   "cell_type": "code",
   "execution_count": null,
   "id": "4762f256-1c2d-4198-90c6-5e00b5cae7a1",
   "metadata": {},
   "outputs": [],
   "source": [
    "%%time\n",
    "\n",
    "query_string=f\"\"\" \n",
    "\n",
    "SELECT column_name\n",
    "FROM cashbac-31433.cashbac_datalake_prod.INFORMATION_SCHEMA.COLUMNS\n",
    "WHERE table_name = 'data_owner_photos'\n",
    "\n",
    "\"\"\"\n",
    "\n",
    "query_result = list(cashbac_bqclient.query(query_string).result(timeout=None))\n",
    "print(len(query_result))\n",
    "df_temp = pd.DataFrame(data=[list(x.values()) for x in query_result], columns=list(query_result[0].keys()))\n",
    "\n",
    "my_schema=[]\n",
    "save_columns=[]\n",
    "for column in df_temp.column_name :\n",
    "    if column in data_owner_photos.columns :\n",
    "        save_columns.append(column)\n",
    "        my_schema.append(bigquery.SchemaField(column, \"STRING\"))\n",
    "\n",
    "data_owner_photos[save_columns].drop_duplicates().to_csv('results/data_owner_photos.csv',sep=';',index=False)"
   ]
  },
  {
   "cell_type": "code",
   "execution_count": null,
   "id": "6a7dc6b0-8c57-4692-91dc-fa2c6a27800a",
   "metadata": {},
   "outputs": [],
   "source": [
    "\n",
    "cashbac_key='Cashbac-GCP-Keys.json'\n",
    "horego_key='Horego-GCP-Keys.json'\n",
    "\n",
    "# #############################################################################################\n",
    "\n",
    "src_path_file='results/data_owner_photos.csv'\n",
    "target_path_file='scrapping_results/data_owner_photos.csv'\n",
    "bucket_name='cashbac_datalake'\n",
    "upload_file_to_GCS(cashbac_key,bucket_name,src_path_file,target_path_file)\n",
    "\n",
    "table_schema = \"cashbac_datalake_prod\"\n",
    "table_name = \"data_owner_photos\"\n",
    "gcs_path_uri = f\"gs://{bucket_name}/scrapping_results/data_owner_photos.csv\"\n",
    "create_table_from_gcs(cashbac_key,gcs_path_uri,table_schema,table_name,my_schema,'append')\n",
    "\n",
    "\n",
    "#############################################################################################\n",
    "#BQ DATALAKE HOREGO\n",
    "src_path_file='results/data_owner_photos.csv'\n",
    "target_path_file='scrapping_results/data_owner_photos.csv'\n",
    "bucket_name='horego-bq'\n",
    "upload_file_to_GCS(horego_key,bucket_name,src_path_file,target_path_file)\n",
    "\n",
    "table_schema = \"horego_datalake_dev\"\n",
    "table_name = \"data_owner_photos\"\n",
    "gcs_path_uri = f\"gs://{bucket_name}/scrapping_results/data_owner_photos.csv\"\n",
    "create_table_from_gcs(horego_key,gcs_path_uri,table_schema,table_name,my_schema,'append')"
   ]
  },
  {
   "cell_type": "markdown",
   "id": "3067e627-0205-4290-b813-3d4b93dce1ff",
   "metadata": {},
   "source": [
    "### insert into list table insert "
   ]
  },
  {
   "cell_type": "code",
   "execution_count": 10,
   "id": "f5d92633-4ec3-4abb-9d72-d630f5e5935c",
   "metadata": {},
   "outputs": [
    {
     "name": "stdout",
     "output_type": "stream",
     "text": [
      "5\n",
      "CPU times: user 134 ms, sys: 71.5 ms, total: 206 ms\n",
      "Wall time: 1.17 s\n"
     ]
    }
   ],
   "source": [
    "%%time\n",
    "\n",
    "query_string=f\"\"\" \n",
    "\n",
    "SELECT column_name\n",
    "FROM cashbac-31433.cashbac_datalake_prod.INFORMATION_SCHEMA.COLUMNS\n",
    "WHERE table_name = 'list_insert_to_prod'\n",
    "\n",
    "\"\"\"\n",
    "\n",
    "query_result = list(cashbac_bqclient.query(query_string).result(timeout=None))\n",
    "print(len(query_result))\n",
    "df_temp = pd.DataFrame(data=[list(x.values()) for x in query_result], columns=list(query_result[0].keys()))\n",
    "\n",
    "my_schema=[]\n",
    "save_columns=[]\n",
    "for column in df_temp.column_name :\n",
    "    if column in data_owner_photos.columns :\n",
    "        save_columns.append(column)\n",
    "        my_schema.append(bigquery.SchemaField(column, \"STRING\"))\n",
    "\n",
    "data_owner_photos[save_columns].drop_duplicates().to_csv('results/input_list_insert_to_prod.csv',sep=';',index=False)"
   ]
  },
  {
   "cell_type": "code",
   "execution_count": 11,
   "id": "61abc1e6-f294-4fed-81f1-90be98d27bcd",
   "metadata": {},
   "outputs": [
    {
     "name": "stdout",
     "output_type": "stream",
     "text": [
      "Uploading results/input_list_insert_to_prod.csv\n",
      "Path in GCS: cashbac_datalake/scrapping_results/input_list_insert_to_prod.csv\n",
      "table on : cashbac_datalake_prod.list_insert_to_prod\n"
     ]
    }
   ],
   "source": [
    "cashbac_key='Cashbac-GCP-Keys.json'\n",
    "horego_key='Horego-GCP-Keys.json'\n",
    "\n",
    "#############################################################################################\n",
    "\n",
    "src_path_file='results/input_list_insert_to_prod.csv'\n",
    "target_path_file='scrapping_results/input_list_insert_to_prod.csv'\n",
    "bucket_name='cashbac_datalake'\n",
    "upload_file_to_GCS(cashbac_key,bucket_name,src_path_file,target_path_file)\n",
    "\n",
    "table_schema = \"cashbac_datalake_prod\"\n",
    "table_name = \"list_insert_to_prod\"\n",
    "gcs_path_uri = f\"gs://{bucket_name}/scrapping_results/input_list_insert_to_prod.csv\"\n",
    "create_table_from_gcs(cashbac_key,gcs_path_uri,table_schema,table_name,my_schema,'append')\n"
   ]
  },
  {
   "cell_type": "code",
   "execution_count": null,
   "id": "fa5a97ce-9419-4802-8f92-33a81e0feb37",
   "metadata": {},
   "outputs": [],
   "source": []
  }
 ],
 "metadata": {
  "kernelspec": {
   "display_name": "Python 3 (ipykernel)",
   "language": "python",
   "name": "python3"
  },
  "language_info": {
   "codemirror_mode": {
    "name": "ipython",
    "version": 3
   },
   "file_extension": ".py",
   "mimetype": "text/x-python",
   "name": "python",
   "nbconvert_exporter": "python",
   "pygments_lexer": "ipython3",
   "version": "3.10.11"
  }
 },
 "nbformat": 4,
 "nbformat_minor": 5
}
