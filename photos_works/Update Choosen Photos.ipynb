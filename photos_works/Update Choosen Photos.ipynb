{
 "cells": [
  {
   "cell_type": "code",
   "execution_count": 1,
   "id": "f3efdba5-8ad8-4cf1-9450-e0706fb41ade",
   "metadata": {},
   "outputs": [
    {
     "name": "stdout",
     "output_type": "stream",
     "text": [
      "INFO: Pandarallel will run on 2 workers.\n",
      "INFO: Pandarallel will use standard multiprocessing data transfer (pipe) to transfer data between the main process and workers.\n"
     ]
    }
   ],
   "source": [
    "import warnings\n",
    "warnings.filterwarnings('ignore')\n",
    "\n",
    "import pandas as pd\n",
    "\n",
    "import numpy as np\n",
    "import json\n",
    "import os\n",
    "import urllib\n",
    "\n",
    "from imageai.Classification import ImageClassification\n",
    "\n",
    "from PIL import Image\n",
    "import requests\n",
    "\n",
    "pd.set_option('display.max_columns', None)\n",
    "\n",
    "from tqdm import tqdm\n",
    "tqdm.pandas()\n",
    "\n",
    "from datetime import datetime\n",
    "\n",
    "from pandarallel import pandarallel\n",
    "pandarallel.initialize(progress_bar=False,nb_workers=2)"
   ]
  },
  {
   "cell_type": "code",
   "execution_count": 2,
   "id": "c2305647-ea94-44e4-8af4-c1b3f02337ef",
   "metadata": {},
   "outputs": [],
   "source": [
    "import google.auth\n",
    "from google.oauth2 import service_account\n",
    "from google.cloud import bigquery\n",
    "\n",
    "credentials = service_account.Credentials.from_service_account_file('Cashbac-GCP-Keys.json')\n",
    "project_id = 'cashbac-31433'\n",
    "\n",
    "# Make clients.\n",
    "cashbac_bqclient = bigquery.Client(\n",
    "    credentials=credentials,\n",
    "    project=project_id,\n",
    ")\n",
    "\n",
    "import google.auth\n",
    "from google.oauth2 import service_account\n",
    "from google.cloud import bigquery\n",
    "\n",
    "credentials = service_account.Credentials.from_service_account_file('Horego-GCP-Keys.json')\n",
    "project_id = 'horego-big-query'\n",
    "\n",
    "# Make clients.\n",
    "horego_bqclient = bigquery.Client(\n",
    "    credentials=credentials,\n",
    "    project=project_id,\n",
    ")\n",
    "\n",
    "import psycopg2.pool\n",
    "def db_connect_cashbac_nopool(host,database,user,password):\n",
    "    \"\"\"\n",
    "    :return:\n",
    "    \"\"\"\n",
    "    connection = psycopg2.connect(host=host,\n",
    "                              database=database,\n",
    "                              user=user,\n",
    "                              password=password,\n",
    "                              port=5432)\n",
    "    return connection"
   ]
  },
  {
   "cell_type": "code",
   "execution_count": 3,
   "id": "5a3852d8-c0fc-4b8b-a085-2f4e5f9edf00",
   "metadata": {},
   "outputs": [
    {
     "name": "stdout",
     "output_type": "stream",
     "text": [
      "INFO: Pandarallel will run on 2 workers.\n",
      "INFO: Pandarallel will use standard multiprocessing data transfer (pipe) to transfer data between the main process and workers.\n",
      "INFO: Pandarallel will run on 2 workers.\n",
      "INFO: Pandarallel will use standard multiprocessing data transfer (pipe) to transfer data between the main process and workers.\n"
     ]
    }
   ],
   "source": [
    "import sys\n",
    "import os\n",
    "\n",
    "cur_directory=os.getcwd()\n",
    "parent_directory=cur_directory[:cur_directory.rfind('/')]\n",
    "sys.path.append(parent_directory)\n",
    " \n",
    "# importing\n",
    "import MyFunc\n",
    "from MyFunc import *\n",
    "\n",
    "from importlib import reload\n",
    "reload(MyFunc)\n",
    "from MyFunc import *"
   ]
  },
  {
   "cell_type": "code",
   "execution_count": 4,
   "id": "d8e7c7da-27d1-48b8-b0e7-bb6e07c3cf08",
   "metadata": {},
   "outputs": [
    {
     "data": {
      "text/html": [
       "<div>\n",
       "<style scoped>\n",
       "    .dataframe tbody tr th:only-of-type {\n",
       "        vertical-align: middle;\n",
       "    }\n",
       "\n",
       "    .dataframe tbody tr th {\n",
       "        vertical-align: top;\n",
       "    }\n",
       "\n",
       "    .dataframe thead th {\n",
       "        text-align: right;\n",
       "    }\n",
       "</style>\n",
       "<table border=\"1\" class=\"dataframe\">\n",
       "  <thead>\n",
       "    <tr style=\"text-align: right;\">\n",
       "      <th></th>\n",
       "      <th>date</th>\n",
       "      <th>Selected Date</th>\n",
       "      <th>place_id</th>\n",
       "      <th>photo_id</th>\n",
       "      <th>tags</th>\n",
       "    </tr>\n",
       "  </thead>\n",
       "  <tbody>\n",
       "    <tr>\n",
       "      <th>1</th>\n",
       "      <td>18/10/23</td>\n",
       "      <td>12/10/23 10.46</td>\n",
       "      <td>ChIJ8WJQonXvaC4RyAYDcRpOZOE</td>\n",
       "      <td>AF1QipPSUVTwcigJVHC-CUyaarcoaSZOw_kANuGbKd4V</td>\n",
       "      <td>main_banner</td>\n",
       "    </tr>\n",
       "    <tr>\n",
       "      <th>2</th>\n",
       "      <td>18/10/23</td>\n",
       "      <td>12/10/23 10.46</td>\n",
       "      <td>ChIJ8WJQonXvaC4RyAYDcRpOZOE</td>\n",
       "      <td>AF1QipOvVdFrl6BG5sy2ftTzcUV_vfGnIJMBIk_7MORw</td>\n",
       "      <td>priority_banner</td>\n",
       "    </tr>\n",
       "    <tr>\n",
       "      <th>3</th>\n",
       "      <td>18/10/23</td>\n",
       "      <td>12/10/23 10.46</td>\n",
       "      <td>ChIJ8WJQonXvaC4RyAYDcRpOZOE</td>\n",
       "      <td>AF1QipOEBIH6apUazxW1BzuiLTpTdFL3F5Tw7KMvW70D</td>\n",
       "      <td>priority_banner</td>\n",
       "    </tr>\n",
       "    <tr>\n",
       "      <th>4</th>\n",
       "      <td>18/10/23</td>\n",
       "      <td>12/10/23 10.46</td>\n",
       "      <td>ChIJ8WJQonXvaC4RyAYDcRpOZOE</td>\n",
       "      <td>AF1QipMMgHzQ7WdLdX2lkGARuwr3MsNeTqZcgbllOPzn</td>\n",
       "      <td>priority_banner</td>\n",
       "    </tr>\n",
       "    <tr>\n",
       "      <th>5</th>\n",
       "      <td>18/10/23</td>\n",
       "      <td>12/10/23 10.46</td>\n",
       "      <td>ChIJ8WJQonXvaC4RyAYDcRpOZOE</td>\n",
       "      <td>AF1QipMd44KU4f7qxcBC65ORViNFvupyLIJbXua5Qvk</td>\n",
       "      <td>priority_banner</td>\n",
       "    </tr>\n",
       "  </tbody>\n",
       "</table>\n",
       "</div>"
      ],
      "text/plain": [
       "       date   Selected Date                     place_id   \n",
       "1  18/10/23  12/10/23 10.46  ChIJ8WJQonXvaC4RyAYDcRpOZOE  \\\n",
       "2  18/10/23  12/10/23 10.46  ChIJ8WJQonXvaC4RyAYDcRpOZOE   \n",
       "3  18/10/23  12/10/23 10.46  ChIJ8WJQonXvaC4RyAYDcRpOZOE   \n",
       "4  18/10/23  12/10/23 10.46  ChIJ8WJQonXvaC4RyAYDcRpOZOE   \n",
       "5  18/10/23  12/10/23 10.46  ChIJ8WJQonXvaC4RyAYDcRpOZOE   \n",
       "\n",
       "                                       photo_id             tags  \n",
       "1  AF1QipPSUVTwcigJVHC-CUyaarcoaSZOw_kANuGbKd4V      main_banner  \n",
       "2  AF1QipOvVdFrl6BG5sy2ftTzcUV_vfGnIJMBIk_7MORw  priority_banner  \n",
       "3  AF1QipOEBIH6apUazxW1BzuiLTpTdFL3F5Tw7KMvW70D  priority_banner  \n",
       "4  AF1QipMMgHzQ7WdLdX2lkGARuwr3MsNeTqZcgbllOPzn  priority_banner  \n",
       "5   AF1QipMd44KU4f7qxcBC65ORViNFvupyLIJbXua5Qvk  priority_banner  "
      ]
     },
     "execution_count": 4,
     "metadata": {},
     "output_type": "execute_result"
    }
   ],
   "source": [
    "import gspread as gs\n",
    "gc = gs.service_account(filename='Horego-GCP-Keys.json')\n",
    "sheet = gc.open_by_url('https://docs.google.com/spreadsheets/d/1oh-vUpzaj6MfKmcuYiordlS2HNd1ATuSDNqS2JNEtkI/edit?usp=sharing')\n",
    "\n",
    "worksheet = sheet.worksheet('Sheet1')\n",
    "data = pd.DataFrame(worksheet.get_all_values())\n",
    "data.columns=data.iloc[0]\n",
    "data=data[1:]\n",
    "data.columns=['date', 'Selected Date', 'place_id', 'photo_id', 'tags']\n",
    "# data['date']=datetime.now().strftime('%Y-%m-%d')\n",
    "data.tags=data.tags.map({'MAIN_BANNER':'main_banner','BANNER':'priority_banner'})\n",
    "data.head()"
   ]
  },
  {
   "cell_type": "code",
   "execution_count": 5,
   "id": "a5a74069-91ca-4b44-a1b8-d55fdfef83df",
   "metadata": {},
   "outputs": [
    {
     "name": "stdout",
     "output_type": "stream",
     "text": [
      "['18/10/23' '23/10/23' '30/10/23']\n"
     ]
    }
   ],
   "source": [
    "print(data['date'].unique())"
   ]
  },
  {
   "cell_type": "code",
   "execution_count": 6,
   "id": "81cbbcce-1a39-49c3-b3bb-a9ce522f09ba",
   "metadata": {},
   "outputs": [],
   "source": [
    "data=data[data['date']=='30/10/23']\n",
    "data['date']=datetime.now().strftime('%Y-%m-%d')"
   ]
  },
  {
   "cell_type": "code",
   "execution_count": 7,
   "id": "3b5c3581-c299-48b8-bf56-41710f41e354",
   "metadata": {},
   "outputs": [
    {
     "name": "stdout",
     "output_type": "stream",
     "text": [
      "1\n",
      "CPU times: user 77.9 ms, sys: 20.5 ms, total: 98.4 ms\n",
      "Wall time: 2.48 s\n"
     ]
    }
   ],
   "source": [
    "%%time\n",
    "\n",
    "query_string=f\"\"\" \n",
    "\n",
    "SELECT * \n",
    "FROM `cashbac-31433.cashbac_datalake_prod.ops_choosen_photos` table1\n",
    "limit 1\n",
    "\n",
    "\"\"\"\n",
    "\n",
    "query_result = list(cashbac_bqclient.query(query_string).result(timeout=None))\n",
    "print(len(query_result))\n",
    "if len(query_result)>0:\n",
    "    df_temp = pd.DataFrame(data=[list(x.values()) for x in query_result], columns=list(query_result[0].keys()))"
   ]
  },
  {
   "cell_type": "code",
   "execution_count": 8,
   "id": "285896ff-de84-4574-85bb-e358fcb81ddc",
   "metadata": {},
   "outputs": [],
   "source": [
    "my_schema=[]\n",
    "save_columns=[]\n",
    "for column in df_temp.columns :\n",
    "    if column in data.columns :\n",
    "        save_columns.append(column)\n",
    "        my_schema.append(bigquery.SchemaField(column, \"STRING\"))\n",
    "\n",
    "data[save_columns].to_csv('results/choosen_photos.csv',sep=';',index=False)"
   ]
  },
  {
   "cell_type": "code",
   "execution_count": 9,
   "id": "fa9f4c49-f6dd-455b-8442-301f618b3e0d",
   "metadata": {},
   "outputs": [
    {
     "name": "stdout",
     "output_type": "stream",
     "text": [
      "Uploading results/choosen_photos.csv\n",
      "Path in GCS: cashbac_datalake/scrapping_results/choosen_photos.csv\n",
      "table on : cashbac_datalake_prod.ops_choosen_photos\n",
      "\n",
      "Uploading results/choosen_photos.csv\n",
      "Path in GCS: horego-bq/scrapping_results/choosen_photos.csv\n",
      "table on : horego_datalake_dev.ops_choosen_photos\n"
     ]
    }
   ],
   "source": [
    "cashbac_key='Cashbac-GCP-Keys.json'\n",
    "horego_key='Horego-GCP-Keys.json'\n",
    "\n",
    "#############################################################################################\n",
    "\n",
    "# df_temp=pd.read_csv('results/choosen_photos.csv',sep=';', nrows=1)\n",
    "# my_schema=[]\n",
    "# for column in df_temp.columns :\n",
    "#     my_schema.append(bigquery.SchemaField(column, \"STRING\"))\n",
    "\n",
    "src_path_file='results/choosen_photos.csv'\n",
    "target_path_file='scrapping_results/choosen_photos.csv'\n",
    "bucket_name='cashbac_datalake'\n",
    "upload_file_to_GCS(cashbac_key,bucket_name,src_path_file,target_path_file)\n",
    "\n",
    "table_schema = \"cashbac_datalake_prod\"\n",
    "table_name = \"ops_choosen_photos\"\n",
    "gcs_path_uri = f\"gs://{bucket_name}/scrapping_results/choosen_photos.csv\"\n",
    "create_table_from_gcs(cashbac_key,gcs_path_uri,table_schema,table_name,my_schema,'append')\n",
    "\n",
    "# table_schema = \"public_datalake\"\n",
    "# table_name = \"textract_menu_ocr_results\"\n",
    "# gcs_path_uri = f\"gs://{bucket_name}/scrapping_results/clear_raw_table.csv\"\n",
    "# create_table_from_gcs(cashbac_key,gcs_path_uri,table_schema,table_name,my_schema)\n",
    "\n",
    "print('')\n",
    "#############################################################################################\n",
    "\n",
    "src_path_file='results/choosen_photos.csv'\n",
    "target_path_file='scrapping_results/choosen_photos.csv'\n",
    "bucket_name='horego-bq'\n",
    "upload_file_to_GCS(horego_key,bucket_name,src_path_file,target_path_file)\n",
    "\n",
    "table_schema = \"horego_datalake_dev\"\n",
    "table_name = \"ops_choosen_photos\"\n",
    "gcs_path_uri = f\"gs://{bucket_name}/scrapping_results/choosen_photos.csv\"\n",
    "create_table_from_gcs(horego_key,gcs_path_uri,table_schema,table_name,my_schema,'append')"
   ]
  },
  {
   "cell_type": "markdown",
   "id": "0e6b0787-e7e4-478e-99a9-1d1745268e2f",
   "metadata": {},
   "source": [
    "### insert into list table insert "
   ]
  },
  {
   "cell_type": "code",
   "execution_count": 10,
   "id": "3e39135e-d153-4fa6-88ed-e008f12eb7ee",
   "metadata": {},
   "outputs": [
    {
     "name": "stdout",
     "output_type": "stream",
     "text": [
      "5\n",
      "CPU times: user 34.9 ms, sys: 17.4 ms, total: 52.2 ms\n",
      "Wall time: 822 ms\n"
     ]
    }
   ],
   "source": [
    "%%time\n",
    "\n",
    "query_string=f\"\"\" \n",
    "\n",
    "SELECT column_name\n",
    "FROM cashbac-31433.cashbac_datalake_prod.INFORMATION_SCHEMA.COLUMNS\n",
    "WHERE table_name = 'list_insert_to_prod'\n",
    "\n",
    "\"\"\"\n",
    "\n",
    "query_result = list(cashbac_bqclient.query(query_string).result(timeout=None))\n",
    "print(len(query_result))\n",
    "df_temp = pd.DataFrame(data=[list(x.values()) for x in query_result], columns=list(query_result[0].keys()))\n",
    "\n",
    "my_schema=[]\n",
    "save_columns=[]\n",
    "for column in df_temp.column_name :\n",
    "    if column in data.columns :\n",
    "        save_columns.append(column)\n",
    "        my_schema.append(bigquery.SchemaField(column, \"STRING\"))\n",
    "\n",
    "data[save_columns].drop_duplicates().to_csv('results/input_list_insert_to_prod.csv',sep=';',index=False)"
   ]
  },
  {
   "cell_type": "code",
   "execution_count": 11,
   "id": "ab12b114-2e82-448e-96bf-17c33a67ebbb",
   "metadata": {},
   "outputs": [
    {
     "name": "stdout",
     "output_type": "stream",
     "text": [
      "Uploading results/input_list_insert_to_prod.csv\n",
      "Path in GCS: cashbac_datalake/scrapping_results/input_list_insert_to_prod.csv\n",
      "table on : cashbac_datalake_prod.list_insert_to_prod\n"
     ]
    }
   ],
   "source": [
    "cashbac_key='Cashbac-GCP-Keys.json'\n",
    "horego_key='Horego-GCP-Keys.json'\n",
    "\n",
    "#############################################################################################\n",
    "\n",
    "# df_temp=pd.read_csv('results/choosen_photos.csv',sep=';', nrows=1)\n",
    "# my_schema=[]\n",
    "# for column in df_temp.columns :\n",
    "#     my_schema.append(bigquery.SchemaField(column, \"STRING\"))\n",
    "\n",
    "src_path_file='results/input_list_insert_to_prod.csv'\n",
    "target_path_file='scrapping_results/input_list_insert_to_prod.csv'\n",
    "bucket_name='cashbac_datalake'\n",
    "upload_file_to_GCS(cashbac_key,bucket_name,src_path_file,target_path_file)\n",
    "\n",
    "table_schema = \"cashbac_datalake_prod\"\n",
    "table_name = \"list_insert_to_prod\"\n",
    "gcs_path_uri = f\"gs://{bucket_name}/scrapping_results/input_list_insert_to_prod.csv\"\n",
    "create_table_from_gcs(cashbac_key,gcs_path_uri,table_schema,table_name,my_schema,'append')"
   ]
  },
  {
   "cell_type": "code",
   "execution_count": null,
   "id": "62e83e90-9e9e-492a-8908-a41c01bd7f47",
   "metadata": {},
   "outputs": [],
   "source": []
  }
 ],
 "metadata": {
  "kernelspec": {
   "display_name": "Python 3 (ipykernel)",
   "language": "python",
   "name": "python3"
  },
  "language_info": {
   "codemirror_mode": {
    "name": "ipython",
    "version": 3
   },
   "file_extension": ".py",
   "mimetype": "text/x-python",
   "name": "python",
   "nbconvert_exporter": "python",
   "pygments_lexer": "ipython3",
   "version": "3.10.11"
  }
 },
 "nbformat": 4,
 "nbformat_minor": 5
}
