{
 "cells": [
  {
   "cell_type": "code",
   "execution_count": 1,
   "id": "b1e11130-331d-4e84-a5ec-376b2ff9e717",
   "metadata": {},
   "outputs": [
    {
     "name": "stdout",
     "output_type": "stream",
     "text": [
      "INFO: Pandarallel will run on 2 workers.\n",
      "INFO: Pandarallel will use standard multiprocessing data transfer (pipe) to transfer data between the main process and workers.\n"
     ]
    }
   ],
   "source": [
    "import io\n",
    "import pandas as pd\n",
    "from pandas import json_normalize\n",
    "\n",
    "import numpy as np\n",
    "import json\n",
    "pd.set_option('display.max_columns', None)\n",
    "\n",
    "import warnings\n",
    "warnings.filterwarnings('ignore')\n",
    "\n",
    "from tqdm import tqdm\n",
    "tqdm.pandas()\n",
    "\n",
    "from pandarallel import pandarallel\n",
    "pandarallel.initialize(progress_bar=False,nb_workers=2)\n",
    "\n",
    "from bs4 import BeautifulSoup\n",
    "import gspread as gs\n",
    "from datetime import datetime"
   ]
  },
  {
   "cell_type": "code",
   "execution_count": 2,
   "id": "294ab632-df3b-4d34-9e17-98f7d69b4e96",
   "metadata": {},
   "outputs": [],
   "source": [
    "cashbac_key='Cashbac-GCP-Keys.json'\n",
    "horego_key='Horego-GCP-Keys.json'"
   ]
  },
  {
   "cell_type": "code",
   "execution_count": 3,
   "id": "7ce1513c-cdcc-496a-a144-010f6ca344eb",
   "metadata": {},
   "outputs": [
    {
     "name": "stdout",
     "output_type": "stream",
     "text": [
      "INFO: Pandarallel will run on 2 workers.\n",
      "INFO: Pandarallel will use standard multiprocessing data transfer (pipe) to transfer data between the main process and workers.\n",
      "INFO: Pandarallel will run on 2 workers.\n",
      "INFO: Pandarallel will use standard multiprocessing data transfer (pipe) to transfer data between the main process and workers.\n"
     ]
    }
   ],
   "source": [
    "import sys\n",
    "import os\n",
    "\n",
    "cur_directory=os.getcwd()\n",
    "parent_directory=cur_directory[:cur_directory.rfind('/')]\n",
    "sys.path.append(parent_directory)\n",
    " \n",
    "# importing\n",
    "import MyFunc\n",
    "from MyFunc import *\n",
    "\n",
    "from importlib import reload\n",
    "reload(MyFunc)\n",
    "from MyFunc import *"
   ]
  },
  {
   "cell_type": "code",
   "execution_count": 4,
   "id": "11af3731-8dcb-4739-b44d-a58e7915ed41",
   "metadata": {},
   "outputs": [],
   "source": [
    "import google.auth\n",
    "from google.oauth2 import service_account\n",
    "from google.cloud import bigquery\n",
    "\n",
    "\n",
    "credentials = service_account.Credentials.from_service_account_file('Cashbac-GCP-Keys.json')\n",
    "project_id = 'cashbac-31433'\n",
    "\n",
    "# Make clients.\n",
    "cashbac_bqclient = bigquery.Client(\n",
    "    credentials=credentials,\n",
    "    project=project_id,\n",
    ")\n",
    "\n",
    "import google.auth\n",
    "from google.oauth2 import service_account\n",
    "from google.cloud import bigquery\n",
    "\n",
    "credentials = service_account.Credentials.from_service_account_file('Horego-GCP-Keys.json')\n",
    "project_id = 'horego-big-query'\n",
    "\n",
    "# Make clients.\n",
    "horego_bqclient = bigquery.Client(\n",
    "    credentials=credentials,\n",
    "    project=project_id,\n",
    ")\n",
    "\n",
    "import psycopg2.pool\n",
    "def db_connect_cashbac_nopool(host,database,user,password):\n",
    "    \"\"\"\n",
    "    :return:\n",
    "    \"\"\"\n",
    "    connection = psycopg2.connect(host=host,\n",
    "                              database=database,\n",
    "                              user=user,\n",
    "                              password=password,\n",
    "                              port=5432)\n",
    "    return connection"
   ]
  },
  {
   "cell_type": "code",
   "execution_count": 5,
   "id": "de101026-feaf-429a-be9f-f2680419d71f",
   "metadata": {},
   "outputs": [],
   "source": [
    "cashbac_key='Cashbac-GCP-Keys.json'\n",
    "horego_key='Horego-GCP-Keys.json'\n",
    "\n",
    "name_exclude=get_name_exclude(horego_key)\n",
    "subtype_exclude=get_subtype_exclude(horego_key)\n",
    "exclude_restorant=get_exclude_restorant(horego_key)\n",
    "include_restorant=get_include_restaurant_type1(horego_key)\n",
    "outlet_in_mall_type1=get_include_restaurant_mall_type1(horego_key)\n",
    "\n",
    "name_exclude.KEYWORD=name_exclude.KEYWORD.str.replace(\"'\",'')\n",
    "subtype_exclude.KEYWORD=subtype_exclude.KEYWORD.str.replace(\"'\",'')"
   ]
  },
  {
   "cell_type": "code",
   "execution_count": 6,
   "id": "bce27e8a-e9f9-4588-a091-de98e459ecde",
   "metadata": {},
   "outputs": [],
   "source": [
    "subtype_condition=''\n",
    "for subtype in subtype_exclude.KEYWORD.unique():\n",
    "    subtype_condition=subtype_condition+' '+f\"\"\"and lower(subtypes) not like lower('%{subtype}%')\"\"\"\n",
    "\n",
    "name_condition=''\n",
    "for name in name_exclude.KEYWORD.unique():\n",
    "    name_condition=name_condition+' '+f\"\"\"and lower(name) not like lower('%{name}%')\"\"\"\n",
    "\n",
    "exclude_restorant_condition=''\n",
    "for place_id in exclude_restorant.place_id.unique():\n",
    "    exclude_restorant_condition=exclude_restorant_condition+' '+f\"\"\"and lower(place_id) != lower('{place_id}')\"\"\""
   ]
  },
  {
   "cell_type": "code",
   "execution_count": 7,
   "id": "e27075c9-825a-4e2b-93ea-da049ea071cb",
   "metadata": {},
   "outputs": [],
   "source": [
    "include_restorant_condition='lower(place_id) in ('\n",
    "for place_id in include_restorant[(include_restorant.place_id!='')].place_id.unique():\n",
    "    place_id=place_id.lower()\n",
    "    include_restorant_condition=include_restorant_condition+' '+f\"\"\"'{place_id}',\"\"\"\n",
    "include_restorant_condition=include_restorant_condition[:-1]+')'\n",
    "\n",
    "\n",
    "include_restorant_condition_google_id='lower(google_id) in ('\n",
    "for google_id in include_restorant[(include_restorant.google_id!='')].google_id.unique():\n",
    "    google_id=google_id.lower()\n",
    "    include_restorant_condition_google_id=include_restorant_condition_google_id+' '+f\"\"\"'{place_id}',\"\"\"\n",
    "include_restorant_condition_google_id=include_restorant_condition_google_id[:-1]+')'"
   ]
  },
  {
   "cell_type": "code",
   "execution_count": 8,
   "id": "0be3c097-97f2-44d0-aac7-6ee15d70ee20",
   "metadata": {},
   "outputs": [],
   "source": [
    "include_restorant_condition2='lower(place_id) in ('\n",
    "for place_id in outlet_in_mall_type1[(outlet_in_mall_type1.place_id!='')].place_id.unique():\n",
    "    place_id=place_id.lower()\n",
    "    include_restorant_condition2=include_restorant_condition2+' '+f\"\"\"'{place_id}',\"\"\"\n",
    "include_restorant_condition2=include_restorant_condition2[:-1]+')'\n",
    "\n",
    "\n",
    "include_restorant_condition_google_id2='lower(google_id) in ('\n",
    "for google_id in outlet_in_mall_type1[(outlet_in_mall_type1.google_id!='')].google_id.unique():\n",
    "    google_id=google_id.lower()\n",
    "    include_restorant_condition_google_id2=include_restorant_condition_google_id2+' '+f\"\"\"'{google_id}',\"\"\"\n",
    "include_restorant_condition_google_id2=include_restorant_condition_google_id2[:-1]+')'"
   ]
  },
  {
   "cell_type": "code",
   "execution_count": 9,
   "id": "71d8bf03-70c9-44cf-a166-9aef0e2b6686",
   "metadata": {},
   "outputs": [
    {
     "name": "stdout",
     "output_type": "stream",
     "text": [
      "0\n",
      "CPU times: user 99.3 ms, sys: 35.8 ms, total: 135 ms\n",
      "Wall time: 16.6 s\n"
     ]
    }
   ],
   "source": [
    "%%time\n",
    "#######################################################################################\n",
    "\n",
    "query_string=f\"\"\" \n",
    "\n",
    "select * from \n",
    "(\n",
    "    SELECT * \n",
    "    FROM `cashbac-31433.cashbac_datalake_prod.vw_outcrapper_google_results_raw` table1\n",
    "    where true \n",
    "    and \n",
    "    (\n",
    "        {include_restorant_condition}\n",
    "    )\n",
    "    and not exists\n",
    "    (\n",
    "      select 1 \n",
    "      from `cashbac-31433.cashbac_datalake_prod.vw_outcrapper_google_results` table2\n",
    "      where table1.google_id=table2.google_id\n",
    "    )\n",
    ")table1\n",
    "union all\n",
    "select * from \n",
    "(\n",
    "    SELECT * \n",
    "    FROM `cashbac-31433.cashbac_datalake_prod.vw_outcrapper_google_results_raw` table1\n",
    "    where true \n",
    "    and \n",
    "    (\n",
    "        {include_restorant_condition_google_id}\n",
    "    )\n",
    "    and not exists\n",
    "    (\n",
    "      select 1 \n",
    "      from `cashbac-31433.cashbac_datalake_prod.vw_outcrapper_google_results` table2\n",
    "      where table1.google_id=table2.google_id\n",
    "    )\n",
    ")table12\n",
    "union all\n",
    "select * from \n",
    "(\n",
    "    SELECT * \n",
    "    FROM `cashbac-31433.cashbac_datalake_prod.vw_outcrapper_google_results_raw` table1\n",
    "    where true \n",
    "    and \n",
    "    (\n",
    "        {include_restorant_condition2}\n",
    "    )\n",
    "    and not exists\n",
    "    (\n",
    "      select 1 \n",
    "      from `cashbac-31433.cashbac_datalake_prod.vw_outcrapper_google_results` table2\n",
    "      where table1.google_id=table2.google_id\n",
    "    )\n",
    ")table3\n",
    "union all\n",
    "select * from \n",
    "(\n",
    "    SELECT * \n",
    "    FROM `cashbac-31433.cashbac_datalake_prod.vw_outcrapper_google_results_raw` table1\n",
    "    where true \n",
    "    and \n",
    "    (\n",
    "        {include_restorant_condition_google_id2}\n",
    "    )\n",
    "    and not exists\n",
    "    (\n",
    "      select 1 \n",
    "      from `cashbac-31433.cashbac_datalake_prod.vw_outcrapper_google_results` table2\n",
    "      where table1.google_id=table2.google_id\n",
    "    )\n",
    ")table13\n",
    "\"\"\"\n",
    "\n",
    "query_result = list(cashbac_bqclient.query(query_string).result(timeout=None))\n",
    "print(len(query_result))\n",
    "if len(query_result)>0:\n",
    "    data = pd.DataFrame(data=[list(x.values()) for x in query_result], columns=list(query_result[0].keys()))\n",
    "    data=data.drop_duplicates()\n",
    "    print(len(data))\n",
    "\n",
    "del query_result"
   ]
  },
  {
   "cell_type": "code",
   "execution_count": 64,
   "id": "5ae916a3-ed3f-4332-9dae-b0f0afb80e3f",
   "metadata": {},
   "outputs": [
    {
     "name": "stdout",
     "output_type": "stream",
     "text": [
      "1\n"
     ]
    }
   ],
   "source": [
    "query_string=f\"\"\" \n",
    "\n",
    "SELECT * \n",
    "FROM `cashbac-31433.cashbac_datalake_prod.outcrapper_google_results` table1\n",
    "limit 1\n",
    "\n",
    "\"\"\"\n",
    "\n",
    "query_result = list(cashbac_bqclient.query(query_string).result(timeout=None))\n",
    "print(len(query_result))\n",
    "if len(query_result)>0:\n",
    "    df_temp = pd.DataFrame(data=[list(x.values()) for x in query_result], columns=list(query_result[0].keys()))"
   ]
  },
  {
   "cell_type": "code",
   "execution_count": 65,
   "id": "cae8d61b-be41-4659-b2d9-70978c75c884",
   "metadata": {},
   "outputs": [
    {
     "name": "stdout",
     "output_type": "stream",
     "text": [
      "Total :  143\n",
      "Uploading results/temp_upload_filtered.csv\n",
      "Path in GCS: horego-bq/scrapping_results/temp_upload_filtered.csv\n",
      "table on : horego_datalake_dev.outcrapper_google_results\n",
      "Uploading results/temp_upload_filtered.csv\n",
      "Path in GCS: cashbac_datalake/scrapping_results/temp_upload_filtered.csv\n",
      "table on : cashbac_datalake_prod.outcrapper_google_results\n",
      "\n",
      "DONE\n"
     ]
    }
   ],
   "source": [
    "query_string# data=pd.read_csv('results/transfer_from_raw.csv',sep=';')\n",
    "# data=cleaning_data_merchants(data)\n",
    "# hot_area=get_hot_area_list(horego_key)\n",
    "\n",
    "# data['hot_area']=data.apply(lambda x:get_hot_area(x.latitude,x.longitude,hot_area),axis=1)\n",
    "data_location=pd.read_csv('daftar_kota_admin_level_kelurahan_with_lat_long.csv',sep=';')\n",
    "data_location=data_location[(data_location.latitude<=6) &(data_location.latitude>=-11)&(data_location.longitude>=95)&(data_location.longitude<=141)]\n",
    "\n",
    "# data=filtering_data_merchants(data,'Cashbac-GCP-Keys.json')\n",
    "print('Total : ',len(data))\n",
    "if len(data)>0:\n",
    "    data[['kodepos','province','kabupaten','kecamatan','kelurahan']]=data.parallel_apply(lambda x: get_post_code(x.longitude,x.latitude,data_location),axis=1)\n",
    "    \n",
    "    # df_temp=pd.read_csv('results/clear_raw_table_filtered.csv',sep=';', nrows=1)\n",
    "    my_schema=[]\n",
    "    save_columns=[]\n",
    "    for column in df_temp.columns :\n",
    "        if column in data.columns :\n",
    "            save_columns.append(column)\n",
    "            if column in ['working_hours','about']:\n",
    "                my_schema.append(bigquery.SchemaField(column, \"JSON\"))\n",
    "            else:\n",
    "                my_schema.append(bigquery.SchemaField(column, \"STRING\"))\n",
    "\n",
    "    data[save_columns].to_csv('results/temp_upload_filtered.csv',sep=';',index=False)\n",
    "    \n",
    "    #############################################################################################\n",
    "    #BQ DATALAKE HOREGO\n",
    "    src_path_file='results/temp_upload_filtered.csv'\n",
    "    target_path_file=f\"scrapping_results/temp_upload_filtered.csv\"\n",
    "    bucket_name='horego-bq'\n",
    "    upload_file_to_GCS(horego_key,bucket_name,src_path_file,target_path_file)\n",
    "    \n",
    "    table_schema = \"horego_datalake_dev\"\n",
    "    table_name = \"outcrapper_google_results\"\n",
    "    gcs_path_uri = f\"gs://{bucket_name}/scrapping_results/temp_upload_filtered.csv\"\n",
    "    create_table_from_gcs(horego_key,gcs_path_uri,table_schema,table_name,my_schema,'append')\n",
    "    \n",
    "    #############################################################################################\n",
    "    #############################################################################################\n",
    "    #BQ DATALAKE CASHBAC\n",
    "    bucket_name='cashbac_datalake'\n",
    "    src_path_file='results/temp_upload_filtered.csv'\n",
    "    target_path_file=f\"scrapping_results/temp_upload_filtered.csv\"\n",
    "    upload_file_to_GCS(cashbac_key,bucket_name,src_path_file,target_path_file)\n",
    "    \n",
    "    table_schema = \"cashbac_datalake_prod\"\n",
    "    table_name = \"outcrapper_google_results\"\n",
    "    gcs_path_uri = f\"gs://{bucket_name}/scrapping_results/temp_upload_filtered.csv\"\n",
    "    create_table_from_gcs(cashbac_key,gcs_path_uri,table_schema,table_name,my_schema,'append')\n",
    "    \n",
    "    # table_schema = \"public_datalake\"\n",
    "    # table_name = \"outcrapper_google_results\"\n",
    "    # gcs_path_uri = f\"gs://{bucket_name}/scrapping_results/temp_upload_filtered.csv\"\n",
    "    # create_table_from_gcs(cashbac_key,gcs_path_uri,table_schema,table_name,my_schema,'append')\n",
    "    #############################################################################################\n",
    "    print('')\n",
    "\n",
    "print('DONE')"
   ]
  },
  {
   "cell_type": "code",
   "execution_count": 66,
   "id": "a13c810b-68fd-4f28-b201-6fd5715064ce",
   "metadata": {},
   "outputs": [
    {
     "name": "stdout",
     "output_type": "stream",
     "text": [
      "5\n",
      "CPU times: user 20.2 ms, sys: 10.5 ms, total: 30.7 ms\n",
      "Wall time: 673 ms\n"
     ]
    }
   ],
   "source": [
    "%%time\n",
    "\n",
    "query_string=f\"\"\" \n",
    "\n",
    "SELECT column_name\n",
    "FROM cashbac-31433.cashbac_datalake_prod.INFORMATION_SCHEMA.COLUMNS\n",
    "WHERE table_name = 'list_insert_to_prod'\n",
    "\n",
    "\"\"\"\n",
    "\n",
    "query_result = list(cashbac_bqclient.query(query_string).result(timeout=None))\n",
    "print(len(query_result))\n",
    "df_temp = pd.DataFrame(data=[list(x.values()) for x in query_result], columns=list(query_result[0].keys()))\n",
    "\n",
    "my_schema=[]\n",
    "save_columns=[]\n",
    "for column in df_temp.column_name :\n",
    "    if column in data.columns :\n",
    "        save_columns.append(column)\n",
    "        my_schema.append(bigquery.SchemaField(column, \"STRING\"))\n",
    "\n",
    "data[save_columns].drop_duplicates().to_csv('results/input_list_insert_to_prod.csv',sep=';',index=False)"
   ]
  },
  {
   "cell_type": "code",
   "execution_count": 67,
   "id": "e0e7985d-57c6-4e0b-ac8b-1aad20126ab9",
   "metadata": {},
   "outputs": [
    {
     "name": "stdout",
     "output_type": "stream",
     "text": [
      "Uploading results/input_list_insert_to_prod.csv\n",
      "Path in GCS: cashbac_datalake/scrapping_results/input_list_insert_to_prod.csv\n",
      "table on : cashbac_datalake_prod.list_insert_to_prod\n"
     ]
    }
   ],
   "source": [
    "cashbac_key='Cashbac-GCP-Keys.json'\n",
    "horego_key='Horego-GCP-Keys.json'\n",
    "\n",
    "#############################################################################################\n",
    "\n",
    "# df_temp=pd.read_csv('results/choosen_photos.csv',sep=';', nrows=1)\n",
    "# my_schema=[]\n",
    "# for column in df_temp.columns :\n",
    "#     my_schema.append(bigquery.SchemaField(column, \"STRING\"))\n",
    "\n",
    "src_path_file='results/input_list_insert_to_prod.csv'\n",
    "target_path_file='scrapping_results/input_list_insert_to_prod.csv'\n",
    "bucket_name='cashbac_datalake'\n",
    "upload_file_to_GCS(cashbac_key,bucket_name,src_path_file,target_path_file)\n",
    "\n",
    "table_schema = \"cashbac_datalake_prod\"\n",
    "table_name = \"list_insert_to_prod\"\n",
    "gcs_path_uri = f\"gs://{bucket_name}/scrapping_results/input_list_insert_to_prod.csv\"\n",
    "create_table_from_gcs(cashbac_key,gcs_path_uri,table_schema,table_name,my_schema,'append')"
   ]
  },
  {
   "cell_type": "code",
   "execution_count": null,
   "id": "0e8caed6-eb10-429b-bce8-b9cb019b6600",
   "metadata": {},
   "outputs": [],
   "source": []
  }
 ],
 "metadata": {
  "kernelspec": {
   "display_name": "Python 3 (ipykernel)",
   "language": "python",
   "name": "python3"
  },
  "language_info": {
   "codemirror_mode": {
    "name": "ipython",
    "version": 3
   },
   "file_extension": ".py",
   "mimetype": "text/x-python",
   "name": "python",
   "nbconvert_exporter": "python",
   "pygments_lexer": "ipython3",
   "version": "3.10.11"
  }
 },
 "nbformat": 4,
 "nbformat_minor": 5
}
