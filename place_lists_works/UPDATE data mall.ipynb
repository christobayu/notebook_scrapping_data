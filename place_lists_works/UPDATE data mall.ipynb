{
 "cells": [
  {
   "cell_type": "code",
   "execution_count": 49,
   "id": "77ad71b8-3130-4ae2-ac05-ee42288ad6e2",
   "metadata": {},
   "outputs": [
    {
     "name": "stdout",
     "output_type": "stream",
     "text": [
      "INFO: Pandarallel will run on 2 workers.\n",
      "INFO: Pandarallel will use standard multiprocessing data transfer (pipe) to transfer data between the main process and workers.\n"
     ]
    }
   ],
   "source": [
    "import io\n",
    "import pandas as pd\n",
    "from pandas import json_normalize\n",
    "\n",
    "import numpy as np\n",
    "import json\n",
    "pd.set_option('display.max_columns', None)\n",
    "\n",
    "import warnings\n",
    "warnings.filterwarnings('ignore')\n",
    "\n",
    "from tqdm import tqdm\n",
    "tqdm.pandas()\n",
    "\n",
    "from pandarallel import pandarallel\n",
    "pandarallel.initialize(progress_bar=False,nb_workers=2)\n",
    "\n",
    "import gspread as gs\n",
    "from datetime import datetime"
   ]
  },
  {
   "cell_type": "code",
   "execution_count": 50,
   "id": "813a396f-2d47-4f1c-9210-42b6dbe25d49",
   "metadata": {},
   "outputs": [
    {
     "name": "stdout",
     "output_type": "stream",
     "text": [
      "INFO: Pandarallel will run on 2 workers.\n",
      "INFO: Pandarallel will use standard multiprocessing data transfer (pipe) to transfer data between the main process and workers.\n"
     ]
    }
   ],
   "source": [
    "import sys\n",
    "import os\n",
    "\n",
    "cur_directory=os.getcwd()\n",
    "parent_directory=cur_directory[:cur_directory.rfind('/')]\n",
    "sys.path.append(parent_directory)\n",
    " \n",
    "# importing\n",
    "import MyFunc\n",
    "from MyFunc import *\n",
    "\n",
    "from importlib import reload\n",
    "reload(MyFunc)\n",
    "from MyFunc import *"
   ]
  },
  {
   "cell_type": "code",
   "execution_count": 51,
   "id": "a9142082-4a98-4c05-ac73-5764f895dd4e",
   "metadata": {},
   "outputs": [],
   "source": [
    "import google.auth\n",
    "from google.oauth2 import service_account\n",
    "from google.cloud import bigquery\n",
    "\n",
    "\n",
    "credentials = service_account.Credentials.from_service_account_file('Cashbac-GCP-Keys.json')\n",
    "project_id = 'cashbac-31433'\n",
    "\n",
    "# Make clients.\n",
    "cashbac_bqclient = bigquery.Client(\n",
    "    credentials=credentials,\n",
    "    project=project_id,\n",
    ")\n",
    "\n",
    "import google.auth\n",
    "from google.oauth2 import service_account\n",
    "from google.cloud import bigquery\n",
    "\n",
    "credentials = service_account.Credentials.from_service_account_file('Horego-GCP-Keys.json')\n",
    "project_id = 'horego-big-query'\n",
    "\n",
    "# Make clients.\n",
    "horego_bqclient = bigquery.Client(\n",
    "    credentials=credentials,\n",
    "    project=project_id,\n",
    ")\n",
    "\n",
    "import psycopg2.pool\n",
    "def db_connect_cashbac_nopool(host,database,user,password):\n",
    "    \"\"\"\n",
    "    :return:\n",
    "    \"\"\"\n",
    "    connection = psycopg2.connect(host=host,\n",
    "                              database=database,\n",
    "                              user=user,\n",
    "                              password=password,\n",
    "                              port=5432)\n",
    "    return connection"
   ]
  },
  {
   "cell_type": "markdown",
   "id": "f24c69b6-c23c-480b-81f3-cef2aefadd13",
   "metadata": {},
   "source": [
    "##### UPDATE DATA MALL TO POSTGRESS"
   ]
  },
  {
   "cell_type": "code",
   "execution_count": 52,
   "id": "f4d485e7-1028-432a-aaf8-55d5d529f8cf",
   "metadata": {},
   "outputs": [
    {
     "name": "stdout",
     "output_type": "stream",
     "text": [
      "CPU times: user 193 ms, sys: 55.4 ms, total: 249 ms\n",
      "Wall time: 3.41 s\n"
     ]
    },
    {
     "data": {
      "text/html": [
       "<div>\n",
       "<style scoped>\n",
       "    .dataframe tbody tr th:only-of-type {\n",
       "        vertical-align: middle;\n",
       "    }\n",
       "\n",
       "    .dataframe tbody tr th {\n",
       "        vertical-align: top;\n",
       "    }\n",
       "\n",
       "    .dataframe thead th {\n",
       "        text-align: right;\n",
       "    }\n",
       "</style>\n",
       "<table border=\"1\" class=\"dataframe\">\n",
       "  <thead>\n",
       "    <tr style=\"text-align: right;\">\n",
       "      <th></th>\n",
       "      <th>input_date</th>\n",
       "      <th>address</th>\n",
       "      <th>google_id</th>\n",
       "      <th>place_id</th>\n",
       "      <th>building_name</th>\n",
       "    </tr>\n",
       "  </thead>\n",
       "  <tbody>\n",
       "    <tr>\n",
       "      <th>1</th>\n",
       "      <td>2023-11-01</td>\n",
       "      <td>Foodcourt, Lantai 3 - Aeon Mall JGC, Jl. Jkt G...</td>\n",
       "      <td>0x2e698bda849c4f6d:0xf2c4df30fefb742f</td>\n",
       "      <td></td>\n",
       "      <td>Aeon Mall JGC</td>\n",
       "    </tr>\n",
       "    <tr>\n",
       "      <th>2</th>\n",
       "      <td>2023-11-01</td>\n",
       "      <td>Foodcourt, Lantai 3 - Aeon Mall JGC, Jl. Jkt G...</td>\n",
       "      <td>0x2e698b508269f60f:0xddb3a598b6a70a06</td>\n",
       "      <td></td>\n",
       "      <td>Aeon Mall JGC</td>\n",
       "    </tr>\n",
       "    <tr>\n",
       "      <th>3</th>\n",
       "      <td>2023-11-01</td>\n",
       "      <td>Foodcourt, Lantai 3 - Aeon Mall JGC, Jl. Jkt G...</td>\n",
       "      <td>0x2e698b01fe3552b7:0x642084e0b8e54be1</td>\n",
       "      <td></td>\n",
       "      <td>Aeon Mall JGC</td>\n",
       "    </tr>\n",
       "    <tr>\n",
       "      <th>4</th>\n",
       "      <td>2023-11-01</td>\n",
       "      <td>Foodcourt, Lantai 3 - Aeon Mall JGC, Jl. Jkt G...</td>\n",
       "      <td>0x2e698b69ef50db21:0xcc40fc04d9b5878d</td>\n",
       "      <td></td>\n",
       "      <td>Aeon Mall JGC</td>\n",
       "    </tr>\n",
       "    <tr>\n",
       "      <th>5</th>\n",
       "      <td>2023-11-01</td>\n",
       "      <td>Foodcourt, Lantai 3 - Aeon Mall JGC, Jl. Jkt G...</td>\n",
       "      <td>0x2e698b01d76e4003:0x9eba3ec8a0b072d</td>\n",
       "      <td></td>\n",
       "      <td>Aeon Mall JGC</td>\n",
       "    </tr>\n",
       "  </tbody>\n",
       "</table>\n",
       "</div>"
      ],
      "text/plain": [
       "   input_date                                            address   \n",
       "1  2023-11-01  Foodcourt, Lantai 3 - Aeon Mall JGC, Jl. Jkt G...  \\\n",
       "2  2023-11-01  Foodcourt, Lantai 3 - Aeon Mall JGC, Jl. Jkt G...   \n",
       "3  2023-11-01  Foodcourt, Lantai 3 - Aeon Mall JGC, Jl. Jkt G...   \n",
       "4  2023-11-01  Foodcourt, Lantai 3 - Aeon Mall JGC, Jl. Jkt G...   \n",
       "5  2023-11-01  Foodcourt, Lantai 3 - Aeon Mall JGC, Jl. Jkt G...   \n",
       "\n",
       "                               google_id place_id  building_name  \n",
       "1  0x2e698bda849c4f6d:0xf2c4df30fefb742f           Aeon Mall JGC  \n",
       "2  0x2e698b508269f60f:0xddb3a598b6a70a06           Aeon Mall JGC  \n",
       "3  0x2e698b01fe3552b7:0x642084e0b8e54be1           Aeon Mall JGC  \n",
       "4  0x2e698b69ef50db21:0xcc40fc04d9b5878d           Aeon Mall JGC  \n",
       "5   0x2e698b01d76e4003:0x9eba3ec8a0b072d           Aeon Mall JGC  "
      ]
     },
     "execution_count": 52,
     "metadata": {},
     "output_type": "execute_result"
    }
   ],
   "source": [
    "%%time\n",
    "import gspread as gs\n",
    "# gc = gs.service_account(filename='Horego-GCP-Keys.json')\n",
    "# sheet = gc.open_by_url('https://docs.google.com/spreadsheets/d/1xj4IXNc0qHtpPhMauK7XiYKxCLnaIqDjxJjV4ttqPkk/edit?usp=sharing')\n",
    "\n",
    "# worksheet = sheet.worksheet('Type 1 Mall')\n",
    "\n",
    "# outlet_in_mall_type1 = pd.DataFrame(worksheet.get_all_values())\n",
    "# outlet_in_mall_type1.columns=outlet_in_mall_type1.iloc[0]\n",
    "# outlet_in_mall_type1=outlet_in_mall_type1[1:]\n",
    "# outlet_in_mall_type1=outlet_in_mall_type1[outlet_in_mall_type1.building_name!='']\n",
    "# outlet_in_mall_type1.columns=['input_date', 'address', 'google_id','place_id', 'building_name']\n",
    "\n",
    "outlet_in_mall_type1=get_include_restaurant_mall_type1('Horego-GCP-Keys.json')\n",
    "outlet_in_mall_type1.head()"
   ]
  },
  {
   "cell_type": "code",
   "execution_count": 56,
   "id": "1774b8a0-ef42-446d-a90b-02b23c281ffb",
   "metadata": {},
   "outputs": [
    {
     "name": "stdout",
     "output_type": "stream",
     "text": [
      "['2023-11-01']\n",
      "116\n"
     ]
    }
   ],
   "source": [
    "print(outlet_in_mall_type1['input_date'].unique())\n",
    "\n",
    "print(outlet_in_mall_type1.building_name.nunique())"
   ]
  },
  {
   "cell_type": "code",
   "execution_count": 57,
   "id": "64c86924-9d20-4cc0-b6d7-8403fd656631",
   "metadata": {},
   "outputs": [
    {
     "name": "stdout",
     "output_type": "stream",
     "text": [
      "0\n",
      "CPU times: user 104 ms, sys: 49 ms, total: 153 ms\n",
      "Wall time: 4.8 s\n"
     ]
    }
   ],
   "source": [
    "%%time\n",
    "list_outlet_update=outlet_in_mall_type1[outlet_in_mall_type1['google_id'].isnull()==False]\n",
    "\n",
    "list_google_id=''\n",
    "for google_id in outlet_in_mall_type1[outlet_in_mall_type1.google_id!='']['google_id']:\n",
    "    list_google_id=list_google_id+\"'\"+str(google_id)+\"',\"\n",
    "list_google_id=list_google_id[:-1]\n",
    "\n",
    "list_place_id=''\n",
    "for place_id in outlet_in_mall_type1[outlet_in_mall_type1.place_id!='']['place_id']:\n",
    "    list_place_id=list_place_id+\"'\"+str(place_id)+\"',\"\n",
    "list_place_id=list_place_id[:-1]\n",
    "\n",
    "#######################################################################################\n",
    "\n",
    "query_string=f\"\"\" \n",
    "\n",
    "SELECT table1.* \n",
    "FROM `cashbac-31433.cashbac_datalake_dev.outcrapper_google_results_raw` table1\n",
    "where true\n",
    "and\n",
    "( google_id in ({list_google_id}) or place_id in ({list_google_id}))\n",
    "and not exists\n",
    "(\n",
    "  select 1 \n",
    "  from `cashbac-31433.cashbac_datalake_prod.vw_outcrapper_google_results` table2\n",
    "  where table1.google_id=table2.google_id\n",
    ")\n",
    "\n",
    "\"\"\"\n",
    "\n",
    "query_result = list(cashbac_bqclient.query(query_string).result(timeout=None))\n",
    "print(len(query_result))\n",
    "if len(query_result)>0:\n",
    "    data = pd.DataFrame(data=[list(x.values()) for x in query_result], columns=list(query_result[0].keys()))\n",
    "    data=data.drop_duplicates()\n",
    "    print(len(data))"
   ]
  },
  {
   "cell_type": "code",
   "execution_count": 12,
   "id": "1c399b3d-ae19-4724-88e7-bdfa8c2a08ca",
   "metadata": {},
   "outputs": [
    {
     "name": "stdout",
     "output_type": "stream",
     "text": [
      "1\n"
     ]
    }
   ],
   "source": [
    "query_string=f\"\"\" \n",
    "\n",
    "SELECT * \n",
    "FROM `cashbac-31433.cashbac_datalake_prod.outcrapper_google_results` table1\n",
    "limit 1\n",
    "\n",
    "\"\"\"\n",
    "\n",
    "query_result = list(cashbac_bqclient.query(query_string).result(timeout=None))\n",
    "print(len(query_result))\n",
    "if len(query_result)>0:\n",
    "    df_temp = pd.DataFrame(data=[list(x.values()) for x in query_result], columns=list(query_result[0].keys()))"
   ]
  },
  {
   "cell_type": "code",
   "execution_count": 58,
   "id": "7bebb4b6-9f99-4965-86e4-7640d7742465",
   "metadata": {},
   "outputs": [],
   "source": [
    "my_schema=[]\n",
    "for column in df_temp.columns :\n",
    "    if column in ['working_hours','about']:\n",
    "        my_schema.append(bigquery.SchemaField(column, \"JSON\"))\n",
    "    else:\n",
    "        my_schema.append(bigquery.SchemaField(column, \"STRING\"))"
   ]
  },
  {
   "cell_type": "code",
   "execution_count": 65,
   "id": "01362e28-cd31-4aed-ae30-f455f6753101",
   "metadata": {},
   "outputs": [
    {
     "name": "stdout",
     "output_type": "stream",
     "text": [
      "Uploading results/temp_upload_raw.csv\n",
      "Path in GCS: horego-bq/scrapping_results/temp_upload_raw.csv\n",
      "table on : horego_datalake_dev.outcrapper_google_results\n",
      "Uploading results/temp_upload_raw.csv\n",
      "Path in GCS: cashbac_datalake/scrapping_results/temp_upload_raw.csv\n",
      "table on : cashbac_datalake_prod.outcrapper_google_results\n"
     ]
    }
   ],
   "source": [
    "cashbac_key='Cashbac-GCP-Keys.json'\n",
    "horego_key='Horego-GCP-Keys.json'\n",
    "# hot_area=get_hot_area_list(cashbac_key)\n",
    "# data=cleaning_data_merchants(data)\n",
    "        \n",
    "data_location=pd.read_csv('daftar_kota_admin_level_kelurahan_with_lat_long.csv',sep=';')\n",
    "data_location=data_location[(data_location.latitude<=6) &(data_location.latitude>=-11)&(data_location.longitude>=95)&(data_location.longitude<=141)]\n",
    "\n",
    "data['scrappe_date'] = datetime.now().strftime('%Y-%m-%d')\n",
    "data[['kodepos','province','kabupaten','kecamatan','kelurahan']]=data.parallel_apply(lambda x: get_post_code(x.longitude,x.latitude,data_location),axis=1)\n",
    "\n",
    "# df_temp=pd.read_csv('results/clear_raw_table_filtered.csv',sep=';', nrows=1)\n",
    "my_schema=[]\n",
    "save_columns=[]\n",
    "for column in df_temp.columns :\n",
    "    if column in data.columns :\n",
    "        save_columns.append(column)\n",
    "        \n",
    "        if column in ['working_hours','about']:\n",
    "            my_schema.append(bigquery.SchemaField(column, \"JSON\"))\n",
    "        else:\n",
    "            my_schema.append(bigquery.SchemaField(column, \"STRING\"))\n",
    "data[save_columns].to_csv('results/temp_upload_raw.csv',sep=';',index=False)\n",
    "\n",
    "#############################################################################################\n",
    "#BQ DATALAKE HOREGO\n",
    "src_path_file='results/temp_upload_raw.csv'\n",
    "target_path_file=f\"scrapping_results/temp_upload_raw.csv\"\n",
    "bucket_name='horego-bq'\n",
    "upload_file_to_GCS(horego_key,bucket_name,src_path_file,target_path_file)\n",
    "\n",
    "table_schema = \"horego_datalake_dev\"\n",
    "table_name = \"outcrapper_google_results\"\n",
    "gcs_path_uri = f\"gs://{bucket_name}/scrapping_results/temp_upload_raw.csv\"\n",
    "create_table_from_gcs(horego_key,gcs_path_uri,table_schema,table_name,my_schema,'append')\n",
    "\n",
    "#############################################################################################\n",
    "#############################################################################################\n",
    "#BQ DATALAKE CASHBAC\n",
    "bucket_name='cashbac_datalake'\n",
    "src_path_file='results/temp_upload_raw.csv'\n",
    "target_path_file=f\"scrapping_results/temp_upload_raw.csv\"\n",
    "upload_file_to_GCS(cashbac_key,bucket_name,src_path_file,target_path_file)\n",
    "\n",
    "table_schema = \"cashbac_datalake_prod\"\n",
    "table_name = \"outcrapper_google_results\"\n",
    "gcs_path_uri = f\"gs://{bucket_name}/scrapping_results/temp_upload_raw.csv\"\n",
    "create_table_from_gcs(cashbac_key,gcs_path_uri,table_schema,table_name,my_schema,'append')\n",
    "\n",
    "#############################################################################################\n"
   ]
  },
  {
   "cell_type": "code",
   "execution_count": 59,
   "id": "69bcc28f-953f-4d5e-ae7e-19a204fb816e",
   "metadata": {},
   "outputs": [
    {
     "data": {
      "text/html": [
       "<div>\n",
       "<style scoped>\n",
       "    .dataframe tbody tr th:only-of-type {\n",
       "        vertical-align: middle;\n",
       "    }\n",
       "\n",
       "    .dataframe tbody tr th {\n",
       "        vertical-align: top;\n",
       "    }\n",
       "\n",
       "    .dataframe thead th {\n",
       "        text-align: right;\n",
       "    }\n",
       "</style>\n",
       "<table border=\"1\" class=\"dataframe\">\n",
       "  <thead>\n",
       "    <tr style=\"text-align: right;\">\n",
       "      <th></th>\n",
       "      <th>input_date</th>\n",
       "      <th>address</th>\n",
       "      <th>google_id</th>\n",
       "      <th>place_id</th>\n",
       "      <th>building_name</th>\n",
       "    </tr>\n",
       "  </thead>\n",
       "  <tbody>\n",
       "    <tr>\n",
       "      <th>1</th>\n",
       "      <td>2023-11-08</td>\n",
       "      <td>Foodcourt, Lantai 3 - Aeon Mall JGC, Jl. Jkt G...</td>\n",
       "      <td>0x2e698bda849c4f6d:0xf2c4df30fefb742f</td>\n",
       "      <td></td>\n",
       "      <td>Aeon Mall JGC</td>\n",
       "    </tr>\n",
       "    <tr>\n",
       "      <th>2</th>\n",
       "      <td>2023-11-08</td>\n",
       "      <td>Foodcourt, Lantai 3 - Aeon Mall JGC, Jl. Jkt G...</td>\n",
       "      <td>0x2e698b508269f60f:0xddb3a598b6a70a06</td>\n",
       "      <td></td>\n",
       "      <td>Aeon Mall JGC</td>\n",
       "    </tr>\n",
       "    <tr>\n",
       "      <th>3</th>\n",
       "      <td>2023-11-08</td>\n",
       "      <td>Foodcourt, Lantai 3 - Aeon Mall JGC, Jl. Jkt G...</td>\n",
       "      <td>0x2e698b01fe3552b7:0x642084e0b8e54be1</td>\n",
       "      <td></td>\n",
       "      <td>Aeon Mall JGC</td>\n",
       "    </tr>\n",
       "    <tr>\n",
       "      <th>4</th>\n",
       "      <td>2023-11-08</td>\n",
       "      <td>Foodcourt, Lantai 3 - Aeon Mall JGC, Jl. Jkt G...</td>\n",
       "      <td>0x2e698b69ef50db21:0xcc40fc04d9b5878d</td>\n",
       "      <td></td>\n",
       "      <td>Aeon Mall JGC</td>\n",
       "    </tr>\n",
       "    <tr>\n",
       "      <th>5</th>\n",
       "      <td>2023-11-08</td>\n",
       "      <td>Foodcourt, Lantai 3 - Aeon Mall JGC, Jl. Jkt G...</td>\n",
       "      <td>0x2e698b01d76e4003:0x9eba3ec8a0b072d</td>\n",
       "      <td></td>\n",
       "      <td>Aeon Mall JGC</td>\n",
       "    </tr>\n",
       "  </tbody>\n",
       "</table>\n",
       "</div>"
      ],
      "text/plain": [
       "   input_date                                            address   \n",
       "1  2023-11-08  Foodcourt, Lantai 3 - Aeon Mall JGC, Jl. Jkt G...  \\\n",
       "2  2023-11-08  Foodcourt, Lantai 3 - Aeon Mall JGC, Jl. Jkt G...   \n",
       "3  2023-11-08  Foodcourt, Lantai 3 - Aeon Mall JGC, Jl. Jkt G...   \n",
       "4  2023-11-08  Foodcourt, Lantai 3 - Aeon Mall JGC, Jl. Jkt G...   \n",
       "5  2023-11-08  Foodcourt, Lantai 3 - Aeon Mall JGC, Jl. Jkt G...   \n",
       "\n",
       "                               google_id place_id  building_name  \n",
       "1  0x2e698bda849c4f6d:0xf2c4df30fefb742f           Aeon Mall JGC  \n",
       "2  0x2e698b508269f60f:0xddb3a598b6a70a06           Aeon Mall JGC  \n",
       "3  0x2e698b01fe3552b7:0x642084e0b8e54be1           Aeon Mall JGC  \n",
       "4  0x2e698b69ef50db21:0xcc40fc04d9b5878d           Aeon Mall JGC  \n",
       "5   0x2e698b01d76e4003:0x9eba3ec8a0b072d           Aeon Mall JGC  "
      ]
     },
     "execution_count": 59,
     "metadata": {},
     "output_type": "execute_result"
    }
   ],
   "source": [
    "outlet_in_mall_type1['input_date']=datetime.now().strftime('%Y-%m-%d')\n",
    "outlet_in_mall_type1.columns=['input_date', 'address', 'google_id','place_id', 'building_name']\n",
    "outlet_in_mall_type1.head()"
   ]
  },
  {
   "cell_type": "code",
   "execution_count": 41,
   "id": "ecbb4088-7aa2-4ee8-b40c-6aa083ff3808",
   "metadata": {},
   "outputs": [],
   "source": [
    "outlet_in_mall_type1.to_csv('results/outlet_in_mall_type1.csv',sep=';',index=False)"
   ]
  },
  {
   "cell_type": "code",
   "execution_count": 60,
   "id": "17b8d48b-6505-4f6c-bde6-3ab67c4cf525",
   "metadata": {},
   "outputs": [
    {
     "name": "stdout",
     "output_type": "stream",
     "text": [
      "1\n"
     ]
    }
   ],
   "source": [
    "query_string=f\"\"\" \n",
    "\n",
    "SELECT * \n",
    "FROM `cashbac-31433.cashbac_datalake_prod.outlet_in_mall_type1` table1\n",
    "limit 1\n",
    "\n",
    "\"\"\"\n",
    "\n",
    "query_result = list(cashbac_bqclient.query(query_string).result(timeout=None))\n",
    "print(len(query_result))\n",
    "if len(query_result)>0:\n",
    "    df_temp = pd.DataFrame(data=[list(x.values()) for x in query_result], columns=list(query_result[0].keys()))"
   ]
  },
  {
   "cell_type": "code",
   "execution_count": 43,
   "id": "92279d4e-9a3c-4650-b63b-4164d90766ce",
   "metadata": {},
   "outputs": [
    {
     "name": "stdout",
     "output_type": "stream",
     "text": [
      "Uploading results/outlet_in_mall_type1.csv\n",
      "Path in GCS: cashbac_datalake/scrapping_results/outlet_in_mall_type1.csv\n",
      "table on : cashbac_datalake_prod.outlet_in_mall_type1\n",
      "\n",
      "Uploading results/outlet_in_mall_type1.csv\n",
      "Path in GCS: horego-bq/scrapping_results/outlet_in_mall_type1.csv\n",
      "table on : horego_datalake_dev.outlet_in_mall_type1\n"
     ]
    }
   ],
   "source": [
    "cashbac_key='Cashbac-GCP-Keys.json'\n",
    "horego_key='Horego-GCP-Keys.json'\n",
    "\n",
    "#############################################################################################\n",
    "\n",
    "df_temp=pd.read_csv('results/outlet_in_mall_type1.csv',sep=';', nrows=1)\n",
    "my_schema=[]\n",
    "for column in df_temp.columns :\n",
    "    my_schema.append(bigquery.SchemaField(column, \"STRING\"))\n",
    "\n",
    "# my_schema=[]\n",
    "# save_columns=[]\n",
    "# for column in df_temp.columns :\n",
    "#     if column in data.columns :\n",
    "#         save_columns.append(column)\n",
    "        \n",
    "#         if column in ['working_hours','about']:\n",
    "#             my_schema.append(bigquery.SchemaField(column, \"JSON\"))\n",
    "#         else:\n",
    "#             my_schema.append(bigquery.SchemaField(column, \"STRING\"))\n",
    "# outlet_in_mall_type1[save_columns].to_csv('results/temp_upload_raw.csv',sep=';',index=False)\n",
    "\n",
    "src_path_file='results/outlet_in_mall_type1.csv'\n",
    "target_path_file='scrapping_results/outlet_in_mall_type1.csv'\n",
    "bucket_name='cashbac_datalake'\n",
    "upload_file_to_GCS(cashbac_key,bucket_name,src_path_file,target_path_file)\n",
    "\n",
    "table_schema = \"cashbac_datalake_prod\"\n",
    "table_name = \"outlet_in_mall_type1\"\n",
    "gcs_path_uri = f\"gs://{bucket_name}/scrapping_results/outlet_in_mall_type1.csv\"\n",
    "create_table_from_gcs(cashbac_key,gcs_path_uri,table_schema,table_name,my_schema,'append')\n",
    "\n",
    "print('')\n",
    "#############################################################################################\n",
    "\n",
    "src_path_file='results/outlet_in_mall_type1.csv'\n",
    "target_path_file='scrapping_results/outlet_in_mall_type1.csv'\n",
    "bucket_name='horego-bq'\n",
    "upload_file_to_GCS(horego_key,bucket_name,src_path_file,target_path_file)\n",
    "\n",
    "table_schema = \"horego_datalake_dev\"\n",
    "table_name = \"outlet_in_mall_type1\"\n",
    "gcs_path_uri = f\"gs://{bucket_name}/scrapping_results/outlet_in_mall_type1.csv\"\n",
    "create_table_from_gcs(horego_key,gcs_path_uri,table_schema,table_name,my_schema,'append')"
   ]
  },
  {
   "cell_type": "markdown",
   "id": "d1846626-c326-4100-9e7f-fb50f2293577",
   "metadata": {},
   "source": [
    "##### UPDATE UNKNOWN BY URL"
   ]
  },
  {
   "cell_type": "code",
   "execution_count": 20,
   "id": "efea9ccc-9cc1-4d62-9021-f6e82e616185",
   "metadata": {},
   "outputs": [
    {
     "name": "stdout",
     "output_type": "stream",
     "text": [
      "CPU times: user 183 ms, sys: 63.3 ms, total: 246 ms\n",
      "Wall time: 2.51 s\n"
     ]
    },
    {
     "data": {
      "text/html": [
       "<div>\n",
       "<style scoped>\n",
       "    .dataframe tbody tr th:only-of-type {\n",
       "        vertical-align: middle;\n",
       "    }\n",
       "\n",
       "    .dataframe tbody tr th {\n",
       "        vertical-align: top;\n",
       "    }\n",
       "\n",
       "    .dataframe thead th {\n",
       "        text-align: right;\n",
       "    }\n",
       "</style>\n",
       "<table border=\"1\" class=\"dataframe\">\n",
       "  <thead>\n",
       "    <tr style=\"text-align: right;\">\n",
       "      <th></th>\n",
       "      <th>input date</th>\n",
       "      <th>Link</th>\n",
       "      <th>address</th>\n",
       "      <th>building_name</th>\n",
       "      <th>Place Id</th>\n",
       "    </tr>\n",
       "  </thead>\n",
       "  <tbody>\n",
       "    <tr>\n",
       "      <th>1</th>\n",
       "      <td>2023-10-06</td>\n",
       "      <td>https://www.google.com/maps/place/Doner+Kebab+...</td>\n",
       "      <td>Foodcourt, Lantai 3 - Aeon Mall JGC</td>\n",
       "      <td>Aeon Mall JGC</td>\n",
       "      <td>#N/A</td>\n",
       "    </tr>\n",
       "    <tr>\n",
       "      <th>2</th>\n",
       "      <td>2023-10-06</td>\n",
       "      <td>https://www.google.com/maps/place/FANPEKKA+Aeo...</td>\n",
       "      <td>Foodcourt, Lantai 3 - Aeon Mall JGC</td>\n",
       "      <td>Aeon Mall JGC</td>\n",
       "      <td>ChIJjTe4i_2KaS4RWuMHlDVVgEE</td>\n",
       "    </tr>\n",
       "    <tr>\n",
       "      <th>3</th>\n",
       "      <td>2023-10-06</td>\n",
       "      <td>https://www.google.com/maps/place/Cream+Fictio...</td>\n",
       "      <td>Foodcourt, Lantai 3 - Aeon Mall JGC</td>\n",
       "      <td>Aeon Mall JGC</td>\n",
       "      <td>#N/A</td>\n",
       "    </tr>\n",
       "    <tr>\n",
       "      <th>4</th>\n",
       "      <td>2023-10-06</td>\n",
       "      <td>https://www.google.com/maps/place/Waroeng+Baku...</td>\n",
       "      <td>Foodcourt, Lantai 3 - Aeon Mall JGC</td>\n",
       "      <td>Aeon Mall JGC</td>\n",
       "      <td>ChIJ3U68dAKLaS4Rw5GM7xZvX7U</td>\n",
       "    </tr>\n",
       "    <tr>\n",
       "      <th>5</th>\n",
       "      <td>2023-10-06</td>\n",
       "      <td>https://www.google.com/maps/place/Kluckee+Hain...</td>\n",
       "      <td>Foodcourt, Lantai 3 - Aeon Mall JGC</td>\n",
       "      <td>Aeon Mall JGC</td>\n",
       "      <td>ChIJl2-ky82LaS4RLxBu7rOYwvI</td>\n",
       "    </tr>\n",
       "  </tbody>\n",
       "</table>\n",
       "</div>"
      ],
      "text/plain": [
       "0  input date                                               Link   \n",
       "1  2023-10-06  https://www.google.com/maps/place/Doner+Kebab+...  \\\n",
       "2  2023-10-06  https://www.google.com/maps/place/FANPEKKA+Aeo...   \n",
       "3  2023-10-06  https://www.google.com/maps/place/Cream+Fictio...   \n",
       "4  2023-10-06  https://www.google.com/maps/place/Waroeng+Baku...   \n",
       "5  2023-10-06  https://www.google.com/maps/place/Kluckee+Hain...   \n",
       "\n",
       "0                              address  building_name   \n",
       "1  Foodcourt, Lantai 3 - Aeon Mall JGC  Aeon Mall JGC  \\\n",
       "2  Foodcourt, Lantai 3 - Aeon Mall JGC  Aeon Mall JGC   \n",
       "3  Foodcourt, Lantai 3 - Aeon Mall JGC  Aeon Mall JGC   \n",
       "4  Foodcourt, Lantai 3 - Aeon Mall JGC  Aeon Mall JGC   \n",
       "5  Foodcourt, Lantai 3 - Aeon Mall JGC  Aeon Mall JGC   \n",
       "\n",
       "0                     Place Id  \n",
       "1                         #N/A  \n",
       "2  ChIJjTe4i_2KaS4RWuMHlDVVgEE  \n",
       "3                         #N/A  \n",
       "4  ChIJ3U68dAKLaS4Rw5GM7xZvX7U  \n",
       "5  ChIJl2-ky82LaS4RLxBu7rOYwvI  "
      ]
     },
     "execution_count": 20,
     "metadata": {},
     "output_type": "execute_result"
    }
   ],
   "source": [
    "%%time\n",
    "import gspread as gs\n",
    "gc = gs.service_account(filename='Horego-GCP-Keys.json')\n",
    "sheet = gc.open_by_url('https://docs.google.com/spreadsheets/d/1xj4IXNc0qHtpPhMauK7XiYKxCLnaIqDjxJjV4ttqPkk/edit?usp=sharing')\n",
    "\n",
    "worksheet = sheet.worksheet('Type 2 Mall')\n",
    "\n",
    "outlet_in_mall_type2 = pd.DataFrame(worksheet.get_all_values())\n",
    "outlet_in_mall_type2.columns=outlet_in_mall_type2.iloc[0]\n",
    "outlet_in_mall_type2=outlet_in_mall_type2[1:]\n",
    "outlet_in_mall_type2=outlet_in_mall_type2[outlet_in_mall_type2.building_name!='']\n",
    "outlet_in_mall_type2.head()"
   ]
  },
  {
   "cell_type": "code",
   "execution_count": 16,
   "id": "ad643498-65ed-4392-821a-75a475bd468a",
   "metadata": {},
   "outputs": [
    {
     "name": "stdout",
     "output_type": "stream",
     "text": [
      "1094\n"
     ]
    }
   ],
   "source": [
    "tags=[\"Merchant List\",\"mall outlets type2\"]\n",
    "limit=0\n",
    "\n",
    "queries=[]\n",
    "for url in outlet_in_mall_type2['Link'] :\n",
    "    queries.append(url)\n",
    "\n",
    "print(len(queries))"
   ]
  },
  {
   "cell_type": "code",
   "execution_count": 41,
   "id": "057f1956-790c-4773-b67d-3f304e3b254b",
   "metadata": {},
   "outputs": [],
   "source": [
    "metadata={\n",
    "  \"service_name\": \"google_maps_service_v2\",\n",
    "  \"queries\": queries,\n",
    "  \"enrich\": False,\n",
    "  \"settings\": {\n",
    "    \"output_columns\": [],\n",
    "    \"output_extension\": \"json\"\n",
    "  },\n",
    "  \"tags\": tags,\n",
    "  \"categories\": [],\n",
    "  \"locations\": [],\n",
    "  \"enrichments\": [\"domains_service\"],\n",
    "  \"language\": \"en\",\n",
    "  \"region\": \"ID\",\n",
    "  \"limit\": limit,\n",
    "  \"organizationsPerQueryLimit\": 500,\n",
    "  \"exactMatch\": False,\n",
    "  \"useZipCodes\": False,\n",
    "  \"dropDuplicates\": True,\n",
    "  \"dropEmailDuplicates\": False,\n",
    "  \"ignoreWithoutEmails\": False,\n",
    "  \"UISettings\": {\n",
    "    \"isCustomQueries\": True,\n",
    "    \"isCustomCategories\": False,\n",
    "    \"isCustomLocations\": False\n",
    "  },\n",
    "  \"enrichLocations\": True\n",
    "}"
   ]
  },
  {
   "cell_type": "code",
   "execution_count": 42,
   "id": "4bd64dd9-6765-4359-a3f5-e0c45f3a81d0",
   "metadata": {},
   "outputs": [
    {
     "name": "stdout",
     "output_type": "stream",
     "text": [
      "<Response [200]>\n",
      "{'id': '202310060859100013'}\n"
     ]
    }
   ],
   "source": [
    "import requests\n",
    "import json\n",
    "\n",
    "# headers = {'X-API-KEY': 'Z29vZ2xlLW9hdXRoMnwxMTY5MDkxNzg4MjU5ODY5ODE3MzJ8NGU3NzIwMTNlNQ'}#testing\n",
    "headers = {'X-API-KEY': 'YXV0aDB8NjRjYjJjYjg3ZDQxNWIzM2I0MmY5NGYzfGM0OWZlZWE3ZjI'} #PROD\n",
    "\n",
    "result_scrapping_task = requests.post(\"https://api.app.outscraper.com/tasks\", data=json.dumps(metadata), headers=headers)\n",
    "print(result_scrapping_task)\n",
    "result_scrapping_task=result_scrapping_task.json()\n",
    "print(result_scrapping_task)"
   ]
  },
  {
   "cell_type": "code",
   "execution_count": 63,
   "id": "6defd9ed-784b-456a-9442-86366eaa486e",
   "metadata": {
    "scrolled": true
   },
   "outputs": [
    {
     "name": "stdout",
     "output_type": "stream",
     "text": [
      "2023092103554971f0_mall_outlets.json\n",
      "20230925075008a219_mall_outlets.json\n",
      "202310060859100013_merchant_list_mall_outlets_type2.json\n",
      "DONE\n",
      "CPU times: user 1.9 s, sys: 179 ms, total: 2.08 s\n",
      "Wall time: 6.45 s\n"
     ]
    }
   ],
   "source": [
    "%%time\n",
    "import os\n",
    "from google.cloud import bigquery\n",
    "\n",
    "cashbac_key='Cashbac-GCP-Keys.json'\n",
    "horego_key='Horego-GCP-Keys.json'\n",
    "subtype_exclude=get_subtype_exclude(horego_key)\n",
    "\n",
    "scrappe_date='20230801'\n",
    "        \n",
    "data_location=pd.read_csv('daftar_kota_admin_level_kelurahan_with_lat_long.csv',sep=';')\n",
    "data_location=data_location[(data_location.latitude<=6) &(data_location.latitude>=-11)&(data_location.longitude>=95)&(data_location.longitude<=141)]\n",
    "# data_location=data_location[data_location.Province.str.contains('Jakarta|Jawa|Banten|Yogyakarta')]\n",
    "\n",
    "path = 'outcrapper_raw/merchant_list_no_filter/'\n",
    "files = os.listdir(path)\n",
    "files = [f for f in files if os.path.isfile(path+'/'+f)]\n",
    "files.sort()\n",
    "\n",
    "list_df=[]\n",
    "for file in files:\n",
    "    if '.json' in file and int(file[:8])>=int(scrappe_date):\n",
    "        print(file)\n",
    "        f = open(f'{path}{file}')\n",
    "        data = json.load(f)\n",
    "        data = pd.DataFrame.from_dict(data)\n",
    "        data = data[data.place_id!='__NO_PLACE_FOUND__']\n",
    "        \n",
    "        data['scrappe_date'] = datetime.strptime(file[:8], '%Y%m%d').strftime('%Y-%m-%d')\n",
    "        data=cleaning_data_merchants(data)\n",
    "        # data=data[~data['subtypes'].str.contains('|'.join(subtype_exclude.KEYWORD))]\n",
    "        # data=filtering_data_merchants(data,'Cashbac-GCP-Keys.json')\n",
    "\n",
    "        data['hot_area']=data.apply(lambda x:get_hot_area(x.latitude,x.longitude,hot_area),axis=1)\n",
    "        data[['kodepos','province','kabupaten','kecamatan','kelurahan']]=data.parallel_apply(lambda x: get_post_code(x.longitude,x.latitude,data_location),axis=1)\n",
    "        list_df.append(data)\n",
    "        # data[['kodepos','province','kabupaten','kecamatan','kelurahan']]=data.parallel_apply(lambda x: get_post_code(x.longitude,x.latitude,data_location),axis=1)\n",
    "        # data.to_excel(f\"results/{file.replace('.json','.xlsx')}\",index=False, engine='xlsxwriter')\n",
    "\n",
    "data=pd.concat(list_df)\n",
    "# data=data[df_temp.columns]\n",
    "print('DONE')"
   ]
  },
  {
   "cell_type": "code",
   "execution_count": 64,
   "id": "346d9fe6-f09f-4bb5-ac36-9a48da61b716",
   "metadata": {},
   "outputs": [],
   "source": [
    "group_schema={}\n",
    "for i in data.columns:\n",
    "    if i not in ['place_id', 'google_id']:\n",
    "        # column_grouped.append(i)\n",
    "        group_schema[i]='last'\n",
    "\n",
    "data=data.groupby(['place_id', 'google_id']).agg(group_schema).reset_index()\n",
    "# data=data[df_temp.columns]\n",
    "data.keyword=data.keyword.str.lower()"
   ]
  },
  {
   "cell_type": "code",
   "execution_count": 65,
   "id": "4e477720-4116-449a-92ff-0f19d3c422fc",
   "metadata": {},
   "outputs": [
    {
     "name": "stdout",
     "output_type": "stream",
     "text": [
      "<class 'pandas.core.frame.DataFrame'>\n",
      "RangeIndex: 155 entries, 0 to 154\n",
      "Columns: 101 entries, place_id to Floor\n",
      "dtypes: float64(10), int64(1), object(90)\n",
      "memory usage: 122.4+ KB\n",
      "None\n"
     ]
    }
   ],
   "source": [
    "temp=outlet_in_mall_type2[['Link','building_name','address']]\n",
    "temp.columns=['keyword','Mall','Floor']\n",
    "temp.keyword=temp.keyword.str.lower()\n",
    "\n",
    "data=pd.merge(data,temp\n",
    "              ,on=['keyword']\n",
    "              ,how='left')\n",
    "\n",
    "print(data.info())\n",
    "del temp"
   ]
  },
  {
   "cell_type": "code",
   "execution_count": 50,
   "id": "e2098b20-35b1-4a04-95d0-ca545736e959",
   "metadata": {},
   "outputs": [],
   "source": [
    "# df_temp=pd.read_csv('results/clear_raw_table_filtered.csv',sep=';', nrows=1)"
   ]
  },
  {
   "cell_type": "code",
   "execution_count": 70,
   "id": "15671942-c897-400b-bab1-1501a28933ae",
   "metadata": {},
   "outputs": [],
   "source": [
    "data=data[data.Mall.isnull()==False]"
   ]
  },
  {
   "cell_type": "code",
   "execution_count": 66,
   "id": "f037d244-b56d-4114-9a85-e6851a522cff",
   "metadata": {
    "scrolled": true
   },
   "outputs": [],
   "source": [
    "df_temp=pd.read_csv('results/clear_raw_table_filtered.csv',sep=';', nrows=1)\n",
    "my_schema=[]\n",
    "save_columns=[]\n",
    "for column in df_temp.columns :\n",
    "    if column in data.columns :\n",
    "        save_columns.append(column)\n",
    "        \n",
    "        if column in ['working_hours','about']:\n",
    "            my_schema.append(bigquery.SchemaField(column, \"JSON\"))\n",
    "        else:\n",
    "            my_schema.append(bigquery.SchemaField(column, \"STRING\"))\n",
    "\n",
    "data[save_columns].to_csv('results/mall_outlet_by_urls.csv',sep=';',index=False)"
   ]
  },
  {
   "cell_type": "code",
   "execution_count": 67,
   "id": "e3b5e70c-dcc5-4dc6-918c-9c089bec4dbe",
   "metadata": {},
   "outputs": [
    {
     "name": "stdout",
     "output_type": "stream",
     "text": [
      "Uploading results/mall_outlet_by_urls.csv\n",
      "Path in GCS: cashbac_datalake/scrapping_results/mall_outlet_by_urls.csv\n",
      "table on : cashbac_datalake_dev.outcrapper_google_results_mall\n",
      "Uploading results/mall_outlet_by_urls.csv\n",
      "Path in GCS: horego-bq/scrapping_results/mall_outlet_by_urls.csv\n",
      "table on : horego_datalake_dev.outcrapper_google_results_mall\n"
     ]
    }
   ],
   "source": [
    "from google.cloud import bigquery\n",
    "\n",
    "data=pd.read_csv('results/mall_outlet_by_urls.csv',sep=';')\n",
    "\n",
    "cashbac_key='Cashbac-GCP-Keys.json'\n",
    "horego_key='Horego-GCP-Keys.json'\n",
    "\n",
    "#############################################################################################\n",
    "# df_temp=pd.read_csv('results/mall_outlet_by_urls.csv',sep=';', nrows=1)\n",
    "# my_schema=[]\n",
    "# for column in df_temp.columns :\n",
    "#     if column in ['working_hours','about']:\n",
    "#         my_schema.append(bigquery.SchemaField(column, \"JSON\"))\n",
    "#     else:\n",
    "#         my_schema.append(bigquery.SchemaField(column, \"STRING\"))\n",
    "\n",
    "src_path_file='results/mall_outlet_by_urls.csv'\n",
    "target_path_file='scrapping_results/mall_outlet_by_urls.csv'\n",
    "bucket_name='cashbac_datalake'\n",
    "upload_file_to_GCS(cashbac_key,bucket_name,src_path_file,target_path_file)\n",
    "\n",
    "table_schema = \"cashbac_datalake_dev\"\n",
    "table_name = \"outcrapper_google_results_mall\"\n",
    "gcs_path_uri = f\"gs://{bucket_name}/scrapping_results/mall_outlet_by_urls.csv\"\n",
    "create_table_from_gcs(cashbac_key,gcs_path_uri,table_schema,table_name,my_schema)\n",
    "\n",
    "#############################################################################################\n",
    "\n",
    "bucket_name='horego-bq'\n",
    "src_path_file='results/mall_outlet_by_urls.csv'\n",
    "target_path_file='scrapping_results/mall_outlet_by_urls.csv'\n",
    "upload_file_to_GCS(horego_key,bucket_name,src_path_file,target_path_file)\n",
    "\n",
    "table_schema = \"horego_datalake_dev\"\n",
    "table_name = \"outcrapper_google_results_mall\"\n",
    "gcs_path_uri = f\"gs://{bucket_name}/scrapping_results/mall_outlet_by_urls.csv\"\n",
    "create_table_from_gcs(horego_key,gcs_path_uri,table_schema,table_name,my_schema)"
   ]
  },
  {
   "cell_type": "code",
   "execution_count": 68,
   "id": "f428d2de-3a2a-460b-8afa-d6f4825ce0a5",
   "metadata": {},
   "outputs": [
    {
     "name": "stderr",
     "output_type": "stream",
     "text": [
      "100%|█████████████████████████████████████████████████████████████████████████████████████████████████████████████████████████████████████████████████████████████████████| 838/838 [05:28<00:00,  2.55it/s]\n"
     ]
    }
   ],
   "source": [
    "try:\n",
    "    cursor.close()\n",
    "    conn_details.close()\n",
    "except:\n",
    "    pass\n",
    "    \n",
    "conn_details=db_connect_cashbac_nopool('uat-cashbac-db.ciwxizsaix0m.ap-southeast-1.rds.amazonaws.com','cashbacdb','data_ds','data123')\n",
    "cursor = conn_details.cursor()\n",
    "\n",
    "for i in tqdm(range(len(data))):\n",
    "    google_id=data.iloc[i].google_id\n",
    "    building_name=str(data.iloc[i]['Mall']).upper()\n",
    "    address=str(data.iloc[i]['Floor']).upper()\n",
    "\n",
    "    update_query=f\"\"\"\n",
    "        UPDATE cbmerchant.outlet\n",
    "        SET \n",
    "        building_name = '{building_name}'\n",
    "        ,address='{address}'\n",
    "        WHERE google_id = '{google_id}'\n",
    "    \"\"\"\n",
    "\n",
    "    cursor.execute(update_query)\n",
    "    conn_details.commit()\n",
    "\n",
    "    # pd.DataFrame(columns=['Business Name','Google ID','Mall','Floor']\n",
    "    #              ,data=[[business_name,google_id,mall,floor]]).to_csv('results/mall_already_input.csv',sep=';',index=False,mode='a',header=False)\n",
    "\n",
    "cursor.close()\n",
    "conn_details.close()"
   ]
  },
  {
   "cell_type": "code",
   "execution_count": 86,
   "id": "4e1866ad-826e-4d51-a033-f7027cc08744",
   "metadata": {},
   "outputs": [],
   "source": [
    "temp=outlet_in_mall_type2[['Link','building_name','address']]\n",
    "temp.columns=['keyword','Mall','Floor']\n",
    "temp.keyword=temp.keyword.str.lower()\n",
    "\n",
    "data_left=pd.merge(temp,data\n",
    "              ,on=['keyword']\n",
    "              ,how='left')\n",
    "\n",
    "data_left=data_left[data_left.name.isnull()==True]\n",
    "data_left=data_left[['keyword','Mall_x','Floor_x']]\n",
    "data_left.columns=['Link','Mall','Floor']\n",
    "data_left.to_csv('results/type2_places_not_found.csv',sep=';',index=False)"
   ]
  },
  {
   "cell_type": "code",
   "execution_count": null,
   "id": "7d440039-619d-4573-a549-752bd1c78d0a",
   "metadata": {},
   "outputs": [],
   "source": []
  },
  {
   "cell_type": "code",
   "execution_count": null,
   "id": "2519ae83-2a25-4b65-81f3-922538e5d390",
   "metadata": {},
   "outputs": [],
   "source": []
  },
  {
   "cell_type": "code",
   "execution_count": null,
   "id": "414de754-c7ac-49f3-817a-c3bb333a393f",
   "metadata": {},
   "outputs": [],
   "source": []
  },
  {
   "cell_type": "code",
   "execution_count": null,
   "id": "adb48da7-7a6e-42b4-b7b2-5a0db256e8d6",
   "metadata": {},
   "outputs": [],
   "source": []
  },
  {
   "cell_type": "code",
   "execution_count": null,
   "id": "da33f39f-2c70-4045-9f98-6d2f1d4442ed",
   "metadata": {},
   "outputs": [],
   "source": []
  },
  {
   "cell_type": "code",
   "execution_count": null,
   "id": "15eb5ed7-34c0-4734-9906-f5376970ea0a",
   "metadata": {},
   "outputs": [],
   "source": []
  },
  {
   "cell_type": "code",
   "execution_count": 35,
   "id": "e3320493-6ea4-4a3f-84a0-5b8ac1fc814b",
   "metadata": {},
   "outputs": [
    {
     "name": "stdout",
     "output_type": "stream",
     "text": [
      "869\n"
     ]
    }
   ],
   "source": [
    "query_string=f\"\"\" \n",
    "\n",
    "SELECT google_id\n",
    "FROM `cashbac-31433.cashbac_datalake_dev.outcrapper_google_results_mall` table1\n",
    "where true\n",
    "\"\"\"\n",
    "\n",
    "query_result = list(cashbac_bqclient.query(query_string).result(timeout=None))\n",
    "print(len(query_result))\n",
    "if len(query_result)>0:\n",
    "    data_type2_on_bq = pd.DataFrame(data=[list(x.values()) for x in query_result], columns=list(query_result[0].keys()))"
   ]
  },
  {
   "cell_type": "code",
   "execution_count": 37,
   "id": "0e22e44f-7bc3-41b9-a8b9-2986ad6cb06c",
   "metadata": {},
   "outputs": [],
   "source": [
    "# outlet_in_mall_type2=outlet_in_mall_type2[outlet_in_mall_type2['google id'].isin(data_type2_on_bq.google_id)]"
   ]
  },
  {
   "cell_type": "code",
   "execution_count": 38,
   "id": "c5e3c066-d3e6-4df2-a3c6-0b1399e9922e",
   "metadata": {},
   "outputs": [
    {
     "name": "stdout",
     "output_type": "stream",
     "text": [
      "1094\n"
     ]
    }
   ],
   "source": [
    "tags=[\"Merchant List\",\"mall outlets type2\"]\n",
    "limit=0\n",
    "\n",
    "queries=[]\n",
    "for url in outlet_in_mall_type2['Link'] :\n",
    "    queries.append(url)\n",
    "\n",
    "print(len(queries))"
   ]
  },
  {
   "cell_type": "code",
   "execution_count": 20,
   "id": "7d070d52-5cda-4c72-ba47-8be1ac26da74",
   "metadata": {},
   "outputs": [],
   "source": [
    "hot_area=get_hot_area_list('Horego-GCP-Keys.json')"
   ]
  },
  {
   "cell_type": "code",
   "execution_count": 26,
   "id": "fa53cb0c-8891-414f-99d4-4b5e9e7f2030",
   "metadata": {},
   "outputs": [],
   "source": [
    "# df_temp=pd.read_csv('results/clear_raw_table_filtered.csv',sep=';', nrows=1)"
   ]
  },
  {
   "cell_type": "code",
   "execution_count": 28,
   "id": "8046058e-b3b6-4d50-b630-0495e27dd054",
   "metadata": {},
   "outputs": [
    {
     "ename": "FileNotFoundError",
     "evalue": "[Errno 2] No such file or directory: 'outcrapper_raw/merchant_list_no_filter/'",
     "output_type": "error",
     "traceback": [
      "\u001b[0;31m---------------------------------------------------------------------------\u001b[0m",
      "\u001b[0;31mFileNotFoundError\u001b[0m                         Traceback (most recent call last)",
      "File \u001b[0;32m<timed exec>:14\u001b[0m\n",
      "\u001b[0;31mFileNotFoundError\u001b[0m: [Errno 2] No such file or directory: 'outcrapper_raw/merchant_list_no_filter/'"
     ]
    }
   ],
   "source": [
    "%%time\n",
    "import os\n",
    "from google.cloud import bigquery\n",
    "\n",
    "cashbac_key='Cashbac-GCP-Keys.json'\n",
    "horego_key='Horego-GCP-Keys.json'\n",
    "\n",
    "scrappe_date='20230801'\n",
    "        \n",
    "data_location=pd.read_csv('daftar_kota_admin_level_kelurahan_with_lat_long.csv',sep=';')\n",
    "data_location=data_location[(data_location.latitude<=6) &(data_location.latitude>=-11)&(data_location.longitude>=95)&(data_location.longitude<=141)]\n",
    "# data_location=data_location[data_location.Province.str.contains('Jakarta|Jawa|Banten|Yogyakarta')]\n",
    "\n",
    "path = 'outcrapper_raw/merchant_list_no_filter/'\n",
    "files = os.listdir(path)\n",
    "files = [f for f in files if os.path.isfile(path+'/'+f)]\n",
    "files.sort()\n",
    "\n",
    "list_df=[]\n",
    "for file in files:\n",
    "    if '.json' in file and int(file[:8])>=int(scrappe_date):\n",
    "        print(file)\n",
    "        f = open(f'{path}{file}')\n",
    "        data = json.load(f)\n",
    "        data = pd.DataFrame.from_dict(data)\n",
    "        data = data[data.place_id!='__NO_PLACE_FOUND__']\n",
    "        \n",
    "        data['scrappe_date'] = datetime.strptime(file[:8], '%Y%m%d').strftime('%Y-%m-%d')\n",
    "        data=cleaning_data_merchants(data)\n",
    "\n",
    "        data['hot_area']=data.apply(lambda x:get_hot_area(x.latitude,x.longitude,hot_area),axis=1)\n",
    "        data[['kodepos','province','kabupaten','kecamatan','kelurahan']]=data.parallel_apply(lambda x: get_post_code(x.longitude,x.latitude,data_location),axis=1)\n",
    "        list_df.append(data)\n",
    "        # data[['kodepos','province','kabupaten','kecamatan','kelurahan']]=data.parallel_apply(lambda x: get_post_code(x.longitude,x.latitude,data_location),axis=1)\n",
    "        # data.to_excel(f\"results/{file.replace('.json','.xlsx')}\",index=False, engine='xlsxwriter')\n",
    "\n",
    "data=pd.concat(list_df)\n",
    "data=data[df_temp.columns]\n",
    "print('DONE')"
   ]
  },
  {
   "cell_type": "code",
   "execution_count": null,
   "id": "e2edfce2-63a0-4b59-b875-154821c104f1",
   "metadata": {},
   "outputs": [],
   "source": [
    "group_schema={}\n",
    "for i in data.columns:\n",
    "    if i not in ['place_id', 'google_id']:\n",
    "        # column_grouped.append(i)\n",
    "        group_schema[i]='last'\n",
    "\n",
    "data=data.groupby(['place_id', 'google_id']).agg(group_schema).reset_index()\n",
    "data=data[df_temp.columns]\n",
    "data.keyword=data.keyword.str.lower()"
   ]
  },
  {
   "cell_type": "code",
   "execution_count": null,
   "id": "02b46873-0f52-47f7-885d-56c5e8869e65",
   "metadata": {},
   "outputs": [],
   "source": [
    "temp=outlet_in_mall[outlet_in_mall['URL'].isnull()==False][['URL','Mall','Floor']]\n",
    "temp=temp[temp['URL'].str.contains('http')]\n",
    "temp.columns=['keyword','Mall','Floor']\n",
    "temp.keyword=temp.keyword.str.lower()\n",
    "\n",
    "data=pd.merge(data,temp\n",
    "              ,on=['keyword']\n",
    "              ,how='left')\n",
    "\n",
    "del temp"
   ]
  },
  {
   "cell_type": "code",
   "execution_count": null,
   "id": "fd15874f-ba23-447a-ad8d-da1f1633ca11",
   "metadata": {},
   "outputs": [],
   "source": [
    "data.to_csv('results/mall_outlet_by_urls.csv',sep=';',index=False)"
   ]
  },
  {
   "cell_type": "code",
   "execution_count": null,
   "id": "7a1f3d52-1ab3-4b46-8544-cc2ae037048d",
   "metadata": {},
   "outputs": [],
   "source": [
    "from google.cloud import bigquery\n",
    "\n",
    "data=pd.read_csv('results/mall_outlet_by_urls.csv',sep=';')\n",
    "\n",
    "cashbac_key='Cashbac-GCP-Keys.json'\n",
    "horego_key='Horego-GCP-Keys.json'\n",
    "\n",
    "#############################################################################################\n",
    "df_temp=pd.read_csv('results/mall_outlet_by_urls.csv',sep=';', nrows=1)\n",
    "my_schema=[]\n",
    "for column in df_temp.columns :\n",
    "    if column in ['working_hours','about']:\n",
    "        my_schema.append(bigquery.SchemaField(column, \"JSON\"))\n",
    "    else:\n",
    "        my_schema.append(bigquery.SchemaField(column, \"STRING\"))\n",
    "\n",
    "\n",
    "src_path_file='results/mall_outlet_by_urls.csv'\n",
    "target_path_file='scrapping_results/mall_outlet_by_urls.csv'\n",
    "bucket_name='cashbac_datalake'\n",
    "upload_file_to_GCS(cashbac_key,bucket_name,src_path_file,target_path_file)\n",
    "\n",
    "table_schema = \"cashbac_datalake_dev\"\n",
    "table_name = \"outcrapper_google_results_mall\"\n",
    "gcs_path_uri = f\"gs://{bucket_name}/scrapping_results/mall_outlet_by_urls.csv\"\n",
    "create_table_from_gcs(cashbac_key,gcs_path_uri,table_schema,table_name,my_schema)\n",
    "\n",
    "#############################################################################################\n",
    "\n",
    "bucket_name='horego-bq'\n",
    "src_path_file='results/mall_outlet_by_urls.csv'\n",
    "target_path_file='scrapping_results/mall_outlet_by_urls.csv'\n",
    "upload_file_to_GCS(horego_key,bucket_name,src_path_file,target_path_file)\n",
    "\n",
    "table_schema = \"horego_datalake_dev\"\n",
    "table_name = \"outcrapper_google_results_mall\"\n",
    "gcs_path_uri = f\"gs://{bucket_name}/scrapping_results/mall_outlet_by_urls.csv\"\n",
    "create_table_from_gcs(horego_key,gcs_path_uri,table_schema,table_name,my_schema)"
   ]
  },
  {
   "cell_type": "code",
   "execution_count": 3,
   "id": "eb67de80-f3df-4f97-b7a8-67dcd8fc35cd",
   "metadata": {},
   "outputs": [],
   "source": [
    "import pandas as pd"
   ]
  },
  {
   "cell_type": "code",
   "execution_count": 9,
   "id": "58d103d6-71d3-4c55-b72f-5e5b5c2b8a21",
   "metadata": {},
   "outputs": [
    {
     "data": {
      "text/html": [
       "<div>\n",
       "<style scoped>\n",
       "    .dataframe tbody tr th:only-of-type {\n",
       "        vertical-align: middle;\n",
       "    }\n",
       "\n",
       "    .dataframe tbody tr th {\n",
       "        vertical-align: top;\n",
       "    }\n",
       "\n",
       "    .dataframe thead th {\n",
       "        text-align: right;\n",
       "    }\n",
       "</style>\n",
       "<table border=\"1\" class=\"dataframe\">\n",
       "  <thead>\n",
       "    <tr style=\"text-align: right;\">\n",
       "      <th></th>\n",
       "      <th>google_id</th>\n",
       "    </tr>\n",
       "  </thead>\n",
       "  <tbody>\n",
       "    <tr>\n",
       "      <th>1</th>\n",
       "      <td>0x2e698bda849c4f6d:0xf2c4df30fefb742f</td>\n",
       "    </tr>\n",
       "    <tr>\n",
       "      <th>2</th>\n",
       "      <td>0x2e698b508269f60f:0xddb3a598b6a70a06</td>\n",
       "    </tr>\n",
       "    <tr>\n",
       "      <th>3</th>\n",
       "      <td>0x2e698b01fe3552b7:0x642084e0b8e54be1</td>\n",
       "    </tr>\n",
       "    <tr>\n",
       "      <th>4</th>\n",
       "      <td>0x2e698b69ef50db21:0xcc40fc04d9b5878d</td>\n",
       "    </tr>\n",
       "    <tr>\n",
       "      <th>5</th>\n",
       "      <td>0x2e698b01d76e4003:0x9eba3ec8a0b072d</td>\n",
       "    </tr>\n",
       "    <tr>\n",
       "      <th>...</th>\n",
       "      <td>...</td>\n",
       "    </tr>\n",
       "    <tr>\n",
       "      <th>1848</th>\n",
       "      <td>0x2e6a1dbe2038ef2b:0xf3918c92506c237c</td>\n",
       "    </tr>\n",
       "    <tr>\n",
       "      <th>1849</th>\n",
       "      <td>0x2e6a1dbe27361d1f:0x458602678f9771dd</td>\n",
       "    </tr>\n",
       "    <tr>\n",
       "      <th>1850</th>\n",
       "      <td>0x2e6a1d73aecb7525:0x2a3b22e34e866034</td>\n",
       "    </tr>\n",
       "    <tr>\n",
       "      <th>1851</th>\n",
       "      <td>0x2e6a1d2a9c8f8b6f:0xf202ee9b68428485</td>\n",
       "    </tr>\n",
       "    <tr>\n",
       "      <th>1852</th>\n",
       "      <td>0x2e6a1de07c44e129:0x1a5a403c39249a53</td>\n",
       "    </tr>\n",
       "  </tbody>\n",
       "</table>\n",
       "<p>1852 rows × 1 columns</p>\n",
       "</div>"
      ],
      "text/plain": [
       "                                  google_id\n",
       "1     0x2e698bda849c4f6d:0xf2c4df30fefb742f\n",
       "2     0x2e698b508269f60f:0xddb3a598b6a70a06\n",
       "3     0x2e698b01fe3552b7:0x642084e0b8e54be1\n",
       "4     0x2e698b69ef50db21:0xcc40fc04d9b5878d\n",
       "5      0x2e698b01d76e4003:0x9eba3ec8a0b072d\n",
       "...                                     ...\n",
       "1848  0x2e6a1dbe2038ef2b:0xf3918c92506c237c\n",
       "1849  0x2e6a1dbe27361d1f:0x458602678f9771dd\n",
       "1850  0x2e6a1d73aecb7525:0x2a3b22e34e866034\n",
       "1851  0x2e6a1d2a9c8f8b6f:0xf202ee9b68428485\n",
       "1852  0x2e6a1de07c44e129:0x1a5a403c39249a53\n",
       "\n",
       "[1852 rows x 1 columns]"
      ]
     },
     "execution_count": 9,
     "metadata": {},
     "output_type": "execute_result"
    }
   ],
   "source": [
    "import gspread as gs\n",
    "horego_key='Horego-GCP-Keys.json'\n",
    "gc = gs.service_account(filename=horego_key)\n",
    "sheet = gc.open_by_url('https://docs.google.com/spreadsheets/d/1mADtRV9O1WxT-S0D3fG3cnY7k9XbQqDAEbzb_4SGaw0/edit#gid=314789269')\n",
    "worksheet = sheet.worksheet('Type 1 Mall')\n",
    "mall_type1 = pd.DataFrame(worksheet.get_all_values())\n",
    "mall_type1.columns=mall_type1.iloc[0]\n",
    "mall_type1=mall_type1[1:]\n",
    "\n",
    "mall_type1=mall_type1[['google id']]\n",
    "mall_type1.columns=['google_id']\n",
    "mall_type1=mall_type1[mall_type1.google_id!='']\n",
    "mall_type1"
   ]
  },
  {
   "cell_type": "code",
   "execution_count": null,
   "id": "f5a300d4-9096-4d8b-998a-65a035ea1701",
   "metadata": {},
   "outputs": [],
   "source": []
  }
 ],
 "metadata": {
  "kernelspec": {
   "display_name": "Python 3 (ipykernel)",
   "language": "python",
   "name": "python3"
  },
  "language_info": {
   "codemirror_mode": {
    "name": "ipython",
    "version": 3
   },
   "file_extension": ".py",
   "mimetype": "text/x-python",
   "name": "python",
   "nbconvert_exporter": "python",
   "pygments_lexer": "ipython3",
   "version": "3.10.11"
  }
 },
 "nbformat": 4,
 "nbformat_minor": 5
}
