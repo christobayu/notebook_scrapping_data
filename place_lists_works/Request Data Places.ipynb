{
 "cells": [
  {
   "cell_type": "code",
   "execution_count": 2,
   "id": "9b1ed29d-1a34-489a-955d-6cf2b4383b63",
   "metadata": {},
   "outputs": [
    {
     "name": "stdout",
     "output_type": "stream",
     "text": [
      "INFO: Pandarallel will run on 2 workers.\n",
      "INFO: Pandarallel will use standard multiprocessing data transfer (pipe) to transfer data between the main process and workers.\n"
     ]
    }
   ],
   "source": [
    "import io\n",
    "import pandas as pd\n",
    "from pandas import json_normalize\n",
    "\n",
    "import numpy as np\n",
    "import json\n",
    "pd.set_option('display.max_columns', None)\n",
    "\n",
    "import warnings\n",
    "warnings.filterwarnings('ignore')\n",
    "\n",
    "from tqdm import tqdm\n",
    "tqdm.pandas()\n",
    "\n",
    "from pandarallel import pandarallel\n",
    "pandarallel.initialize(progress_bar=False,nb_workers=2)\n",
    "\n",
    "import gspread as gs\n",
    "from datetime import datetime"
   ]
  },
  {
   "cell_type": "code",
   "execution_count": 3,
   "id": "1b4ea828-7799-459d-b9a3-f3486930f2c7",
   "metadata": {},
   "outputs": [],
   "source": [
    "import google.auth\n",
    "from google.oauth2 import service_account\n",
    "from google.cloud import bigquery\n",
    "\n",
    "cashbac_key='Cashbac-GCP-Keys.json'\n",
    "horego_key='Horego-GCP-Keys.json'\n",
    "\n",
    "credentials = service_account.Credentials.from_service_account_file('Cashbac-GCP-Keys.json')\n",
    "project_id = 'cashbac-31433'\n",
    "\n",
    "# Make clients.\n",
    "cashbac_bqclient = bigquery.Client(\n",
    "    credentials=credentials,\n",
    "    project=project_id,\n",
    ")\n",
    "\n",
    "import google.auth\n",
    "from google.oauth2 import service_account\n",
    "from google.cloud import bigquery\n",
    "\n",
    "credentials = service_account.Credentials.from_service_account_file('Horego-GCP-Keys.json')\n",
    "project_id = 'horego-big-query'\n",
    "\n",
    "# Make clients.\n",
    "horego_bqclient = bigquery.Client(\n",
    "    credentials=credentials,\n",
    "    project=project_id,\n",
    ")\n",
    "\n",
    "import psycopg2.pool\n",
    "def db_connect_cashbac_nopool(host,database,user,password):\n",
    "    \"\"\"\n",
    "    :return:\n",
    "    \"\"\"\n",
    "    connection = psycopg2.connect(host=host,\n",
    "                              database=database,\n",
    "                              user=user,\n",
    "                              password=password,\n",
    "                              port=5432)\n",
    "    return connection"
   ]
  },
  {
   "cell_type": "code",
   "execution_count": 8,
   "id": "09cff314-82c2-41fa-9c28-b53d3e8513ff",
   "metadata": {},
   "outputs": [
    {
     "name": "stderr",
     "output_type": "stream",
     "text": [
      "100%|██████████████████████████████████████████████████████████████████████████████████████████████████████████████████████████████████████████████████████████████| 12924/12924 [00:00<00:00, 30481.92it/s]\n"
     ]
    }
   ],
   "source": [
    "query_string = f\"\"\"\n",
    "\n",
    "    select * \n",
    "    from `horego-big-query.horego_datalake_dev.vw_outcrapper_google_results`\n",
    "    where True\n",
    "    and lower(kabupaten) like '%surabaya%'\n",
    "\n",
    "\"\"\"\n",
    "\n",
    "query_result = list(horego_bqclient.query(query_string).result(timeout=None))\n",
    "temp_df = pd.DataFrame(data=[list(x.values()) for x in tqdm(query_result)], columns=list(query_result[0].keys()))\n",
    "temp_df=temp_df.drop_duplicates()\n",
    "temp_df.to_excel(f\"results/Surabaya.xlsx\",index=False, engine='xlsxwriter')"
   ]
  },
  {
   "cell_type": "code",
   "execution_count": 10,
   "id": "9c2b2c84-ac2e-4a24-bfb8-915e1b2dc4b4",
   "metadata": {},
   "outputs": [],
   "source": [
    "import gspread as gs\n",
    "gc = gs.service_account(filename=horego_key)\n",
    "sheet = gc.open_by_url('https://docs.google.com/spreadsheets/d/1H9YtIjyPaW6hVSWbGh65KU0f9Q97QgoALp-nBsBvo3g/edit#gid=79371918')\n",
    "\n",
    "worksheet = sheet.worksheet('Excluded Keywords')\n",
    "name_exclude = pd.DataFrame(worksheet.get_all_values())\n",
    "name_exclude.columns=name_exclude.iloc[0]\n",
    "name_exclude=name_exclude[1:]\n",
    "# name_exclude=name_exclude[['Exluded \"Contains One of\" Words (All Jakarta)']]\n",
    "name_exclude.columns=['KEYWORD']\n",
    "name_exclude=name_exclude[name_exclude.KEYWORD!='']\n",
    "name_exclude.KEYWORD=name_exclude.KEYWORD.str.lower()"
   ]
  },
  {
   "cell_type": "code",
   "execution_count": 11,
   "id": "79c0033a-1586-4c4b-9ac9-ae4c6788f166",
   "metadata": {},
   "outputs": [
    {
     "data": {
      "text/html": [
       "<div>\n",
       "<style scoped>\n",
       "    .dataframe tbody tr th:only-of-type {\n",
       "        vertical-align: middle;\n",
       "    }\n",
       "\n",
       "    .dataframe tbody tr th {\n",
       "        vertical-align: top;\n",
       "    }\n",
       "\n",
       "    .dataframe thead th {\n",
       "        text-align: right;\n",
       "    }\n",
       "</style>\n",
       "<table border=\"1\" class=\"dataframe\">\n",
       "  <thead>\n",
       "    <tr style=\"text-align: right;\">\n",
       "      <th></th>\n",
       "      <th>KEYWORD</th>\n",
       "    </tr>\n",
       "  </thead>\n",
       "  <tbody>\n",
       "    <tr>\n",
       "      <th>1</th>\n",
       "      <td>basecamp</td>\n",
       "    </tr>\n",
       "    <tr>\n",
       "      <th>2</th>\n",
       "      <td>pelabuhan</td>\n",
       "    </tr>\n",
       "    <tr>\n",
       "      <th>3</th>\n",
       "      <td>sekolah</td>\n",
       "    </tr>\n",
       "    <tr>\n",
       "      <th>4</th>\n",
       "      <td>halte</td>\n",
       "    </tr>\n",
       "    <tr>\n",
       "      <th>5</th>\n",
       "      <td>keliling</td>\n",
       "    </tr>\n",
       "    <tr>\n",
       "      <th>...</th>\n",
       "      <td>...</td>\n",
       "    </tr>\n",
       "    <tr>\n",
       "      <th>62</th>\n",
       "      <td>homestay bunga tilah</td>\n",
       "    </tr>\n",
       "    <tr>\n",
       "      <th>63</th>\n",
       "      <td>mako jaga warga</td>\n",
       "    </tr>\n",
       "    <tr>\n",
       "      <th>64</th>\n",
       "      <td>more vapor wates</td>\n",
       "    </tr>\n",
       "    <tr>\n",
       "      <th>65</th>\n",
       "      <td>ratu tawon cafe &amp; karaoke</td>\n",
       "    </tr>\n",
       "    <tr>\n",
       "      <th>66</th>\n",
       "      <td>warung makan bunga</td>\n",
       "    </tr>\n",
       "  </tbody>\n",
       "</table>\n",
       "<p>66 rows × 1 columns</p>\n",
       "</div>"
      ],
      "text/plain": [
       "                      KEYWORD\n",
       "1                    basecamp\n",
       "2                   pelabuhan\n",
       "3                     sekolah\n",
       "4                       halte\n",
       "5                    keliling\n",
       "..                        ...\n",
       "62       homestay bunga tilah\n",
       "63            mako jaga warga\n",
       "64           more vapor wates\n",
       "65  ratu tawon cafe & karaoke\n",
       "66         warung makan bunga\n",
       "\n",
       "[66 rows x 1 columns]"
      ]
     },
     "execution_count": 11,
     "metadata": {},
     "output_type": "execute_result"
    }
   ],
   "source": [
    "name_exclude"
   ]
  },
  {
   "cell_type": "code",
   "execution_count": null,
   "id": "34c7e8c4-77f2-4cb5-851a-7795bbbaa16f",
   "metadata": {},
   "outputs": [],
   "source": []
  }
 ],
 "metadata": {
  "kernelspec": {
   "display_name": "Python 3 (ipykernel)",
   "language": "python",
   "name": "python3"
  },
  "language_info": {
   "codemirror_mode": {
    "name": "ipython",
    "version": 3
   },
   "file_extension": ".py",
   "mimetype": "text/x-python",
   "name": "python",
   "nbconvert_exporter": "python",
   "pygments_lexer": "ipython3",
   "version": "3.10.11"
  }
 },
 "nbformat": 4,
 "nbformat_minor": 5
}
