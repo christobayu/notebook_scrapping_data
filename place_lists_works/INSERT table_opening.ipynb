{
 "cells": [
  {
   "cell_type": "code",
   "execution_count": 20,
   "id": "74350710-5673-4ebe-ad72-90d7c3065779",
   "metadata": {
    "tags": []
   },
   "outputs": [],
   "source": [
    "%reset -f"
   ]
  },
  {
   "cell_type": "code",
   "execution_count": 1,
   "id": "2c8e29e0-c825-4990-a827-2b9c17ff78b6",
   "metadata": {
    "tags": []
   },
   "outputs": [],
   "source": [
    "import pandas as pd\n",
    "\n",
    "from tqdm import tqdm\n",
    "tqdm.pandas()\n",
    "\n",
    "import gspread as gs\n",
    "import pandas as pd\n",
    "\n",
    "from datetime import datetime"
   ]
  },
  {
   "cell_type": "code",
   "execution_count": 2,
   "id": "3bf763a6-83ae-4e9c-becf-f6f21b0669ca",
   "metadata": {
    "tags": []
   },
   "outputs": [],
   "source": [
    "import google.auth\n",
    "from google.oauth2 import service_account\n",
    "from google.cloud import bigquery\n",
    "\n",
    "credentials = service_account.Credentials.from_service_account_file('Cashbac-GCP-Keys.json')\n",
    "project_id = 'cashbac-31433'\n",
    "\n",
    "# Make clients.\n",
    "bqclient = bigquery.Client(\n",
    "    credentials=credentials,\n",
    "    project=project_id,\n",
    ")"
   ]
  },
  {
   "cell_type": "code",
   "execution_count": 3,
   "id": "609a8b59-a1da-4583-a910-fd5cff036cca",
   "metadata": {},
   "outputs": [
    {
     "name": "stdout",
     "output_type": "stream",
     "text": [
      "INFO: Pandarallel will run on 2 workers.\n",
      "INFO: Pandarallel will use standard multiprocessing data transfer (pipe) to transfer data between the main process and workers.\n",
      "INFO: Pandarallel will run on 2 workers.\n",
      "INFO: Pandarallel will use standard multiprocessing data transfer (pipe) to transfer data between the main process and workers.\n"
     ]
    }
   ],
   "source": [
    "import sys\n",
    "import os\n",
    "\n",
    "cur_directory=os.getcwd()\n",
    "parent_directory=cur_directory[:cur_directory.rfind('/')]\n",
    "sys.path.append(parent_directory)\n",
    " \n",
    "# importing\n",
    "import MyFunc\n",
    "from MyFunc import *\n",
    "\n",
    "from importlib import reload\n",
    "reload(MyFunc)\n",
    "from MyFunc import *"
   ]
  },
  {
   "cell_type": "code",
   "execution_count": 4,
   "id": "22579295-b09c-429b-a72e-08aa61c3f721",
   "metadata": {
    "tags": []
   },
   "outputs": [
    {
     "name": "stderr",
     "output_type": "stream",
     "text": [
      "100%|█████████████████████████████████████████████████████████████████████████████████████████████████████████████████████████████████████████████████████████████████████████████████████████████████████| 85/85 [00:00<00:00, 199952.80it/s]"
     ]
    },
    {
     "name": "stdout",
     "output_type": "stream",
     "text": [
      "85\n"
     ]
    },
    {
     "name": "stderr",
     "output_type": "stream",
     "text": [
      "\n"
     ]
    },
    {
     "data": {
      "text/html": [
       "<div>\n",
       "<style scoped>\n",
       "    .dataframe tbody tr th:only-of-type {\n",
       "        vertical-align: middle;\n",
       "    }\n",
       "\n",
       "    .dataframe tbody tr th {\n",
       "        vertical-align: top;\n",
       "    }\n",
       "\n",
       "    .dataframe thead th {\n",
       "        text-align: right;\n",
       "    }\n",
       "</style>\n",
       "<table border=\"1\" class=\"dataframe\">\n",
       "  <thead>\n",
       "    <tr style=\"text-align: right;\">\n",
       "      <th></th>\n",
       "      <th>google_id</th>\n",
       "      <th>place_id</th>\n",
       "      <th>Monday</th>\n",
       "      <th>Tuesday</th>\n",
       "      <th>Wednesday</th>\n",
       "      <th>Thursday</th>\n",
       "      <th>Friday</th>\n",
       "      <th>Saturday</th>\n",
       "      <th>Sunday</th>\n",
       "    </tr>\n",
       "  </thead>\n",
       "  <tbody>\n",
       "    <tr>\n",
       "      <th>0</th>\n",
       "      <td>0x2e69f1b8e6e9439b:0x8778f96231cd97c9</td>\n",
       "      <td>ChIJm0Pp5rjxaS4RyZfNMWL5eIc</td>\n",
       "      <td>\"10AM-9:30PM\"</td>\n",
       "      <td>\"10AM-9:30PM\"</td>\n",
       "      <td>\"10AM-9:30PM\"</td>\n",
       "      <td>\"10AM-9:30PM\"</td>\n",
       "      <td>\"10AM-9:30PM\"</td>\n",
       "      <td>\"10AM-9:30PM\"</td>\n",
       "      <td>\"10AM-9:30PM\"</td>\n",
       "    </tr>\n",
       "    <tr>\n",
       "      <th>1</th>\n",
       "      <td>0x2e69f630607ae9ef:0x289bdc766cb79230</td>\n",
       "      <td>ChIJ7-l6YDD2aS4RMJK3bHbcmyg</td>\n",
       "      <td>\"10AM-9:30PM\"</td>\n",
       "      <td>\"10AM-9:30PM\"</td>\n",
       "      <td>\"10AM-9:30PM\"</td>\n",
       "      <td>\"10AM-9:30PM\"</td>\n",
       "      <td>\"10AM-9:30PM\"</td>\n",
       "      <td>\"10AM-9:30PM\"</td>\n",
       "      <td>\"10AM-9:30PM\"</td>\n",
       "    </tr>\n",
       "    <tr>\n",
       "      <th>2</th>\n",
       "      <td>0x2e69f5346b73474f:0x6840024e01765f29</td>\n",
       "      <td>ChIJT0dzazT1aS4RKV92AU4CQGg</td>\n",
       "      <td>\"10AM-10PM\"</td>\n",
       "      <td>\"10AM-10PM\"</td>\n",
       "      <td>\"10AM-10PM\"</td>\n",
       "      <td>\"10AM-10PM\"</td>\n",
       "      <td>\"10AM-10PM\"</td>\n",
       "      <td>\"10AM-10PM\"</td>\n",
       "      <td>\"10AM-10PM\"</td>\n",
       "    </tr>\n",
       "    <tr>\n",
       "      <th>3</th>\n",
       "      <td>0x2e68e11c4a9d27e5:0x7bcd1ace08104f55</td>\n",
       "      <td>ChIJ5SedShzhaC4RVU8QCM4azXs</td>\n",
       "      <td>\"9AM-6PM\"</td>\n",
       "      <td>\"9AM-6PM\"</td>\n",
       "      <td>\"9AM-6PM\"</td>\n",
       "      <td>\"9AM-6PM\"</td>\n",
       "      <td>\"9AM-6PM\"</td>\n",
       "      <td>\"8AM-7PM\"</td>\n",
       "      <td>\"8AM-7PM\"</td>\n",
       "    </tr>\n",
       "    <tr>\n",
       "      <th>4</th>\n",
       "      <td>0x2e68e10296a13433:0x8f9e8f11076eff0b</td>\n",
       "      <td>ChIJMzShlgLhaC4RC_9uBxGPno8</td>\n",
       "      <td>\"Closed\"</td>\n",
       "      <td>\"9AM-5PM\"</td>\n",
       "      <td>\"9AM-8PM\"</td>\n",
       "      <td>\"9AM-8PM\"</td>\n",
       "      <td>\"9AM-8PM\"</td>\n",
       "      <td>\"Closed\"</td>\n",
       "      <td>\"9AM-8PM\"</td>\n",
       "    </tr>\n",
       "  </tbody>\n",
       "</table>\n",
       "</div>"
      ],
      "text/plain": [
       "                               google_id                     place_id   \n",
       "0  0x2e69f1b8e6e9439b:0x8778f96231cd97c9  ChIJm0Pp5rjxaS4RyZfNMWL5eIc  \\\n",
       "1  0x2e69f630607ae9ef:0x289bdc766cb79230  ChIJ7-l6YDD2aS4RMJK3bHbcmyg   \n",
       "2  0x2e69f5346b73474f:0x6840024e01765f29  ChIJT0dzazT1aS4RKV92AU4CQGg   \n",
       "3  0x2e68e11c4a9d27e5:0x7bcd1ace08104f55  ChIJ5SedShzhaC4RVU8QCM4azXs   \n",
       "4  0x2e68e10296a13433:0x8f9e8f11076eff0b  ChIJMzShlgLhaC4RC_9uBxGPno8   \n",
       "\n",
       "          Monday        Tuesday      Wednesday       Thursday         Friday   \n",
       "0  \"10AM-9:30PM\"  \"10AM-9:30PM\"  \"10AM-9:30PM\"  \"10AM-9:30PM\"  \"10AM-9:30PM\"  \\\n",
       "1  \"10AM-9:30PM\"  \"10AM-9:30PM\"  \"10AM-9:30PM\"  \"10AM-9:30PM\"  \"10AM-9:30PM\"   \n",
       "2    \"10AM-10PM\"    \"10AM-10PM\"    \"10AM-10PM\"    \"10AM-10PM\"    \"10AM-10PM\"   \n",
       "3      \"9AM-6PM\"      \"9AM-6PM\"      \"9AM-6PM\"      \"9AM-6PM\"      \"9AM-6PM\"   \n",
       "4       \"Closed\"      \"9AM-5PM\"      \"9AM-8PM\"      \"9AM-8PM\"      \"9AM-8PM\"   \n",
       "\n",
       "        Saturday         Sunday  \n",
       "0  \"10AM-9:30PM\"  \"10AM-9:30PM\"  \n",
       "1  \"10AM-9:30PM\"  \"10AM-9:30PM\"  \n",
       "2    \"10AM-10PM\"    \"10AM-10PM\"  \n",
       "3      \"8AM-7PM\"      \"8AM-7PM\"  \n",
       "4       \"Closed\"      \"9AM-8PM\"  "
      ]
     },
     "execution_count": 4,
     "metadata": {},
     "output_type": "execute_result"
    }
   ],
   "source": [
    "query_string = '''\n",
    "\n",
    "SELECT\n",
    "google_id,place_id,\n",
    "working_hours__Monday Monday\n",
    ",working_hours__Tuesday Tuesday\n",
    ",working_hours__Wednesday Wednesday\n",
    ",working_hours__Thursday Thursday\n",
    ",working_hours__Friday Friday\n",
    ",working_hours__Saturday Saturday\n",
    ",working_hours__Sunday Sunday\n",
    "from cashbac-31433.cashbac_datalake_prod.vw_outcrapper_google_results_raw table1\n",
    "where true\n",
    "and table1.working_hours__Monday is not null\n",
    "and not EXISTS \n",
    "(\n",
    "  select 1 \n",
    "  from cashbac_datalake_prod.outcrapper_google_merchants_business_time table2\n",
    "  where table1.google_id=table2.google_id\n",
    ")\n",
    "\n",
    "'''\n",
    "\n",
    "query_result = list(bqclient.query(query_string).result(timeout=None))\n",
    "business_time = pd.DataFrame(data=[list(x.values()) for x in tqdm(query_result)], columns=list(query_result[0].keys()))\n",
    "business_time=business_time.drop_duplicates()\n",
    "del query_result\n",
    "print(len(business_time))\n",
    "business_time.head()"
   ]
  },
  {
   "cell_type": "code",
   "execution_count": 5,
   "id": "83d1269e-76f2-472e-91ae-c3447560778f",
   "metadata": {
    "editable": true,
    "slideshow": {
     "slide_type": ""
    },
    "tags": []
   },
   "outputs": [],
   "source": [
    "business_time.columns[-7:]\n",
    "def get_business_time(opening_text):\n",
    "    opening_text=str(opening_text).replace('\"','')\n",
    "    opening_text=opening_text.encode('ascii', 'ignore').decode(\"utf-8\")\n",
    "    result_open=[]\n",
    "    result_closed=[]\n",
    "    if opening_text=='':\n",
    "        pass\n",
    "    elif opening_text=='Closed':\n",
    "        result_open.append('Closed')\n",
    "        result_closed.append('Closed')\n",
    "    elif opening_text=='Open 24 hours':\n",
    "        result_open.append('00:00')\n",
    "        result_closed.append('24:00')\n",
    "    else:\n",
    "        opens_time=opening_text.split(',')\n",
    "        for time in opens_time:\n",
    "            try:\n",
    "                open=time.split('-')[0]\n",
    "                closed=time.split('-')[1]\n",
    "                if (closed[-2:]=='AM' or closed[-2:]=='PM') and open[-2:]!='AM' and open[-2:]!='PM':\n",
    "                    open=open+closed[-2:]\n",
    "                if open.count(':')>0:\n",
    "                    open=datetime.strptime(open, '%I:%M%p').strftime('%H:%M')\n",
    "                else:\n",
    "                    open=datetime.strptime(open, '%I%p').strftime('%H:%M')\n",
    "\n",
    "                if closed.count(':')>0:\n",
    "                    closed=datetime.strptime(closed, '%I:%M%p').strftime('%H:%M')\n",
    "                else:\n",
    "                    closed=datetime.strptime(closed, '%I%p').strftime('%H:%M')\n",
    "\n",
    "                result_open.append(open)\n",
    "                result_closed.append(closed)\n",
    "            except:\n",
    "                print(opening_text)\n",
    "\n",
    "    return result_open,result_closed"
   ]
  },
  {
   "cell_type": "code",
   "execution_count": 6,
   "id": "fc726bf3-8b61-4b85-aad6-ff1dff988f7c",
   "metadata": {
    "tags": []
   },
   "outputs": [],
   "source": [
    "# result_table=pd.DataFrame(columns=['google_id','place_id','day_week','start_hour','end_hour'])\n",
    "# result_table.to_csv('results/outcrapper_google_merchants_business_time.csv',sep=';',index=False)"
   ]
  },
  {
   "cell_type": "code",
   "execution_count": 7,
   "id": "fdfc7d00-3d58-469c-a858-16abab1c5592",
   "metadata": {},
   "outputs": [],
   "source": [
    "pd.DataFrame(columns=['google_id','place_id','day_week','start_hour','end_hour'])\\\n",
    "    .to_csv('results/outcrapper_google_merchants_business_time.csv',sep=';',index=False)"
   ]
  },
  {
   "cell_type": "code",
   "execution_count": 8,
   "id": "ab2f8210-ea81-4c73-b492-5fb447512020",
   "metadata": {
    "tags": []
   },
   "outputs": [
    {
     "name": "stderr",
     "output_type": "stream",
     "text": [
      "100%|████████████████████████████████████████████████████████████████████████████████████████████████████████████████████████████████████████████████████████████████████████████████████████████████████████| 85/85 [00:00<00:00, 463.65it/s]\n"
     ]
    }
   ],
   "source": [
    "daysname=business_time.columns[-7:]\n",
    "for i in tqdm(range(len(business_time))):\n",
    "    start_hour=None\n",
    "    end_hour=None\n",
    "    temp_data=business_time.iloc[i]\n",
    "    for day in daysname:\n",
    "        start_hour,end_hour=get_business_time(temp_data[day])\n",
    "        for open,close in zip(start_hour,end_hour):\n",
    "            # result_table.loc[len(result_table)]=[temp_data.google_id,temp_data.place_id,day,open,close]\n",
    "\n",
    "            pd.DataFrame(columns=['google_id','place_id','day_week','start_hour','end_hour']\n",
    "                         ,data=[[temp_data.google_id,temp_data.place_id,day,open,close]]\n",
    "                        ).to_csv('results/outcrapper_google_merchants_business_time.csv',sep=';',index=False,mode='a',header=False)\n",
    "            "
   ]
  },
  {
   "cell_type": "code",
   "execution_count": 9,
   "id": "8efb81e3-1482-4139-ba76-da5888f87c45",
   "metadata": {
    "tags": []
   },
   "outputs": [],
   "source": [
    "# %%time\n",
    "# result_table.to_csv('results/outcrapper_google_merchants_business_time.csv',sep=';',index=False)"
   ]
  },
  {
   "cell_type": "code",
   "execution_count": 10,
   "id": "9238930c-e8bb-45f6-968c-6ad43b5771e1",
   "metadata": {
    "tags": []
   },
   "outputs": [
    {
     "name": "stdout",
     "output_type": "stream",
     "text": [
      "INFO: Pandarallel will run on 2 workers.\n",
      "INFO: Pandarallel will use standard multiprocessing data transfer (pipe) to transfer data between the main process and workers.\n"
     ]
    }
   ],
   "source": [
    "import sys\n",
    "import os\n",
    "\n",
    "cur_directory=os.getcwd()\n",
    "parent_directory=cur_directory[:cur_directory.rfind('/')]\n",
    "sys.path.append(parent_directory)\n",
    " \n",
    "# importing\n",
    "import MyFunc\n",
    "from MyFunc import *\n",
    "\n",
    "from importlib import reload\n",
    "reload(MyFunc)\n",
    "from MyFunc import *"
   ]
  },
  {
   "cell_type": "code",
   "execution_count": 11,
   "id": "23d6cd12-7a06-469d-b11c-9e8e024c9ffb",
   "metadata": {
    "tags": []
   },
   "outputs": [
    {
     "name": "stdout",
     "output_type": "stream",
     "text": [
      "\n",
      "Uploading results/outcrapper_google_merchants_business_time.csv\n",
      "Path in GCS: cashbac_datalake/scrapping_results/outcrapper_google_merchants_business_time.csv\n",
      "table on : cashbac_datalake_prod.outcrapper_google_merchants_business_time\n",
      "CPU times: user 189 ms, sys: 9.03 ms, total: 198 ms\n",
      "Wall time: 4.7 s\n"
     ]
    }
   ],
   "source": [
    "%%time\n",
    "from google.cloud import bigquery\n",
    "\n",
    "df_temp=pd.read_csv('results/outcrapper_google_merchants_business_time.csv',sep=';', nrows=1)\n",
    "\n",
    "my_schema=[]\n",
    "for column in df_temp.columns :\n",
    "    my_schema.append(bigquery.SchemaField(column, \"STRING\"))\n",
    "    \n",
    "cashbac_key='Cashbac-GCP-Keys.json'\n",
    "horego_key='Horego-GCP-Keys.json'\n",
    "\n",
    "\n",
    "# src_path_file='results/outcrapper_google_all_filtered.csv'\n",
    "# target_path_file='scrapping_results/outcrapper_google_all_filtered.csv'\n",
    "# bucket_name='horego-bq'\n",
    "# upload_file_to_GCS(horego_key,bucket_name,src_path_file,target_path_file)\n",
    "\n",
    "# table_schema = \"horego_datalake_dev\"\n",
    "# table_name = \"outcrapper_google_results\"\n",
    "# gcs_path_uri = \"gs://horego-bq/scrapping_results/outcrapper_google_all_filtered.csv\"\n",
    "# create_table_from_gcs(horego_key,gcs_path_uri,table_schema,table_name,my_schema)\n",
    "\n",
    "################################################################################\n",
    "print('')\n",
    "\n",
    "src_path_file='results/outcrapper_google_merchants_business_time.csv'\n",
    "target_path_file='scrapping_results/outcrapper_google_merchants_business_time.csv'\n",
    "bucket_name='cashbac_datalake'\n",
    "upload_file_to_GCS(cashbac_key,bucket_name,src_path_file,target_path_file)\n",
    "\n",
    "table_schema = \"cashbac_datalake_prod\"\n",
    "table_name = \"outcrapper_google_merchants_business_time\"\n",
    "gcs_path_uri = f\"gs://{bucket_name}/scrapping_results/outcrapper_google_merchants_business_time.csv\"\n",
    "create_table_from_gcs(cashbac_key,gcs_path_uri,table_schema,table_name,my_schema,'append')\n",
    "\n",
    "# table_schema = \"public_datalake\"\n",
    "# table_name = \"outcrapper_google_merchants_business_time\"\n",
    "# gcs_path_uri = f\"gs://{bucket_name}/scrapping_results/outcrapper_google_merchants_business_time.csv\"\n",
    "# create_table_from_gcs(cashbac_key,gcs_path_uri,table_schema,table_name,my_schema,'append')\n"
   ]
  },
  {
   "cell_type": "code",
   "execution_count": null,
   "id": "520146ea-e96a-4196-9286-d6e6efd5cab8",
   "metadata": {},
   "outputs": [],
   "source": []
  },
  {
   "cell_type": "code",
   "execution_count": null,
   "id": "e832b192-b15d-44d2-8080-3824604e2965",
   "metadata": {},
   "outputs": [],
   "source": []
  },
  {
   "cell_type": "code",
   "execution_count": null,
   "id": "6dbdc4ed-6fde-4f91-9f21-81c8666d4a8a",
   "metadata": {},
   "outputs": [],
   "source": []
  }
 ],
 "metadata": {
  "kernelspec": {
   "display_name": "Python 3 (ipykernel)",
   "language": "python",
   "name": "python3"
  },
  "language_info": {
   "codemirror_mode": {
    "name": "ipython",
    "version": 3
   },
   "file_extension": ".py",
   "mimetype": "text/x-python",
   "name": "python",
   "nbconvert_exporter": "python",
   "pygments_lexer": "ipython3",
   "version": "3.10.11"
  }
 },
 "nbformat": 4,
 "nbformat_minor": 5
}
