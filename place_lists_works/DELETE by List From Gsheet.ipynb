{
 "cells": [
  {
   "cell_type": "code",
   "execution_count": 1,
   "id": "76f257bf-22be-4cb4-ab65-df1d42c731a9",
   "metadata": {},
   "outputs": [
    {
     "name": "stdout",
     "output_type": "stream",
     "text": [
      "INFO: Pandarallel will run on 2 workers.\n",
      "INFO: Pandarallel will use standard multiprocessing data transfer (pipe) to transfer data between the main process and workers.\n"
     ]
    }
   ],
   "source": [
    "import io\n",
    "import pandas as pd\n",
    "from pandas import json_normalize\n",
    "\n",
    "import numpy as np\n",
    "import json\n",
    "pd.set_option('display.max_columns', None)\n",
    "\n",
    "import warnings\n",
    "warnings.filterwarnings('ignore')\n",
    "\n",
    "from tqdm import tqdm\n",
    "tqdm.pandas()\n",
    "\n",
    "from pandarallel import pandarallel\n",
    "pandarallel.initialize(progress_bar=False,nb_workers=2)\n",
    "\n",
    "import gspread as gs\n",
    "from datetime import datetime"
   ]
  },
  {
   "cell_type": "code",
   "execution_count": 2,
   "id": "f244e153-2728-40c4-924b-ba7480fd3f30",
   "metadata": {},
   "outputs": [
    {
     "name": "stdout",
     "output_type": "stream",
     "text": [
      "INFO: Pandarallel will run on 2 workers.\n",
      "INFO: Pandarallel will use standard multiprocessing data transfer (pipe) to transfer data between the main process and workers.\n",
      "INFO: Pandarallel will run on 2 workers.\n",
      "INFO: Pandarallel will use standard multiprocessing data transfer (pipe) to transfer data between the main process and workers.\n"
     ]
    }
   ],
   "source": [
    "import sys\n",
    "import os\n",
    "\n",
    "cur_directory=os.getcwd()\n",
    "parent_directory=cur_directory[:cur_directory.rfind('/')]\n",
    "sys.path.append(parent_directory)\n",
    " \n",
    "# importing\n",
    "import MyFunc\n",
    "from MyFunc import *\n",
    "\n",
    "from importlib import reload\n",
    "reload(MyFunc)\n",
    "from MyFunc import *"
   ]
  },
  {
   "cell_type": "code",
   "execution_count": 3,
   "id": "420d0092-5c72-4b8f-ba09-deed8d5ba154",
   "metadata": {},
   "outputs": [],
   "source": [
    "cashbac_key='Cashbac-GCP-Keys.json'\n",
    "horego_key='Horego-GCP-Keys.json'\n",
    "\n",
    "exclude_restorant=get_exclude_restorant(horego_key)\n",
    "\n",
    "exclude_restorant_condition=''\n",
    "for place_id in exclude_restorant.place_id.unique():\n",
    "    exclude_restorant_condition=exclude_restorant_condition+' '+f\"\"\"or lower(place_id) = lower('{place_id}')\"\"\""
   ]
  },
  {
   "cell_type": "code",
   "execution_count": 5,
   "id": "45895bf9-195b-42e5-8265-dff415297313",
   "metadata": {},
   "outputs": [],
   "source": [
    "import google.auth\n",
    "from google.oauth2 import service_account\n",
    "from google.cloud import bigquery\n",
    "\n",
    "credentials = service_account.Credentials.from_service_account_file('Cashbac-GCP-Keys.json')\n",
    "project_id = 'cashbac-31433'\n",
    "\n",
    "# Make clients.\n",
    "cashbac_bqclient = bigquery.Client(\n",
    "    credentials=credentials,\n",
    "    project=project_id,\n",
    ")"
   ]
  },
  {
   "cell_type": "code",
   "execution_count": 6,
   "id": "d026bd8f-c072-4d37-9130-1e9fc3e749d1",
   "metadata": {},
   "outputs": [
    {
     "name": "stdout",
     "output_type": "stream",
     "text": [
      "2681\n",
      "CPU times: user 595 ms, sys: 90.5 ms, total: 686 ms\n",
      "Wall time: 8.06 s\n"
     ]
    }
   ],
   "source": [
    "%%time\n",
    "#######################################################################################\n",
    "\n",
    "query_string=f\"\"\" \n",
    "\n",
    "SELECT * \n",
    "FROM \n",
    "(\n",
    "    select * from cashbac-31433.cashbac_datalake_prod.outcrapper_google_results \n",
    "    union all \n",
    "    SELECT * FROM cashbac-31433.cashbac_datalake_prod.outcrapper_google_results_mall\n",
    ")table1\n",
    "where \n",
    "    {exclude_restorant_condition[3:]}\n",
    "\"\"\"\n",
    "\n",
    "query_result = list(cashbac_bqclient.query(query_string).result(timeout=None))\n",
    "print(len(query_result))\n",
    "if len(query_result)>0:\n",
    "    data = pd.DataFrame(data=[list(x.values()) for x in query_result], columns=list(query_result[0].keys()))\n",
    "\n",
    "del query_result"
   ]
  },
  {
   "cell_type": "code",
   "execution_count": 7,
   "id": "8fb2b17d-b71b-467d-91e8-2388b04e6f62",
   "metadata": {},
   "outputs": [
    {
     "name": "stderr",
     "output_type": "stream",
     "text": [
      "100%|█████████████████████████████████████████████████████████████████████████████████████████████████████████████████████████████████████████████████████████████████████████████████████████████| 1917/1917 [00:00<00:00, 127257.03it/s]\n"
     ]
    }
   ],
   "source": [
    "where_condition=''\n",
    "for google_id in tqdm(data.google_id.unique()):\n",
    "    where_condition=where_condition+' '+f\"\"\"or lower(google_id) like lower('%{google_id}%')\"\"\"\n",
    "\n",
    "delete_query=f\"\"\"\n",
    "    DELETE FROM `cashbac-31433.cashbac_datalake_prod.outcrapper_google_results`\n",
    "    where{where_condition[3:]}\n",
    "\"\"\"\n",
    "query_job=cashbac_bqclient.query(delete_query).result(timeout=None)\n",
    "\n",
    "delete_query=f\"\"\"\n",
    "    DELETE FROM `cashbac-31433.cashbac_datalake_prod.outcrapper_google_results_mall`\n",
    "    where{where_condition[3:]}\n",
    "\"\"\"\n",
    "query_job=cashbac_bqclient.query(delete_query).result(timeout=None)"
   ]
  },
  {
   "cell_type": "code",
   "execution_count": 8,
   "id": "d013a1db-1f04-42df-bd6a-b41fe6115485",
   "metadata": {},
   "outputs": [
    {
     "name": "stdout",
     "output_type": "stream",
     "text": [
      "CPU times: user 37.7 ms, sys: 21.3 ms, total: 59 ms\n",
      "Wall time: 853 ms\n"
     ]
    }
   ],
   "source": [
    "%%time\n",
    "\n",
    "query_string=f\"\"\" \n",
    "\n",
    "SELECT column_name\n",
    "FROM cashbac-31433.cashbac_datalake_prod.INFORMATION_SCHEMA.COLUMNS\n",
    "WHERE table_name = 'list_delete_in_prod'\n",
    "\n",
    "\"\"\"\n",
    "\n",
    "query_result = list(cashbac_bqclient.query(query_string).result(timeout=None))\n",
    "df_temp = pd.DataFrame(data=[list(x.values()) for x in query_result], columns=list(query_result[0].keys()))\n",
    "\n",
    "my_schema=[]\n",
    "save_columns=[]\n",
    "for column in df_temp.column_name :\n",
    "    if column in data.columns :\n",
    "        save_columns.append(column)\n",
    "        my_schema.append(bigquery.SchemaField(column, \"STRING\"))\n",
    "\n",
    "data[save_columns].drop_duplicates().to_csv('results/input_list_delete_in_prod.csv',sep=';',index=False)"
   ]
  },
  {
   "cell_type": "code",
   "execution_count": 9,
   "id": "7db28b7a-346e-444f-99d5-4030ec0a0d2c",
   "metadata": {},
   "outputs": [
    {
     "name": "stdout",
     "output_type": "stream",
     "text": [
      "Uploading results/input_list_delete_in_prod.csv\n",
      "Path in GCS: cashbac_datalake/scrapping_results/input_list_delete_in_prod.csv\n",
      "table on : cashbac_datalake_dev.list_delete_in_prod\n",
      "CPU times: user 320 ms, sys: 20.6 ms, total: 341 ms\n",
      "Wall time: 3.47 s\n"
     ]
    }
   ],
   "source": [
    "%%time\n",
    "cashbac_key='Cashbac-GCP-Keys.json'\n",
    "horego_key='Horego-GCP-Keys.json'\n",
    "\n",
    "#############################################################################################\n",
    "\n",
    "src_path_file='results/input_list_delete_in_prod.csv'\n",
    "target_path_file='scrapping_results/input_list_delete_in_prod.csv'\n",
    "bucket_name='cashbac_datalake'\n",
    "upload_file_to_GCS(cashbac_key,bucket_name,src_path_file,target_path_file)\n",
    "\n",
    "table_schema = \"cashbac_datalake_prod\"\n",
    "table_name = \"list_delete_in_prod\"\n",
    "gcs_path_uri = f\"gs://{bucket_name}/scrapping_results/input_list_delete_in_prod.csv\"\n",
    "create_table_from_gcs(cashbac_key,gcs_path_uri,table_schema,table_name,my_schema,'append')"
   ]
  },
  {
   "cell_type": "code",
   "execution_count": null,
   "id": "5b5d4792-4ff2-4cb1-bf6b-ef43f9bff087",
   "metadata": {},
   "outputs": [],
   "source": []
  },
  {
   "cell_type": "code",
   "execution_count": 44,
   "id": "2f96aa5f-241f-48d1-87ad-83a204e0592a",
   "metadata": {},
   "outputs": [
    {
     "name": "stdout",
     "output_type": "stream",
     "text": [
      "CPU times: user 26.8 ms, sys: 36.9 ms, total: 63.7 ms\n",
      "Wall time: 1.14 s\n"
     ]
    }
   ],
   "source": [
    "%%time\n",
    "\n",
    "query_string=f\"\"\" \n",
    "\n",
    "SELECT column_name\n",
    "FROM cashbac-31433.cashbac_datalake_prod.INFORMATION_SCHEMA.COLUMNS\n",
    "WHERE table_name = 'list_delete_in_prod'\n",
    "\n",
    "\"\"\"\n",
    "\n",
    "query_result = list(cashbac_bqclient.query(query_string).result(timeout=None))\n",
    "df_temp = pd.DataFrame(data=[list(x.values()) for x in query_result], columns=list(query_result[0].keys()))\n",
    "\n",
    "my_schema=[]\n",
    "save_columns=[]\n",
    "for column in df_temp.column_name :\n",
    "    if column in data.columns :\n",
    "        save_columns.append(column)\n",
    "        my_schema.append(bigquery.SchemaField(column, \"STRING\"))\n",
    "\n",
    "data[save_columns].drop_duplicates().to_csv('results/input_list_delete_in_prod.csv',sep=';',index=False)"
   ]
  },
  {
   "cell_type": "code",
   "execution_count": 46,
   "id": "27c4ecd2-dfaf-4667-8222-6c7dba64d656",
   "metadata": {},
   "outputs": [
    {
     "name": "stdout",
     "output_type": "stream",
     "text": [
      "Uploading results/input_list_delete_in_prod.csv\n",
      "Path in GCS: cashbac_datalake/scrapping_results/input_list_delete_in_prod.csv\n",
      "table on : cashbac_datalake_prod.list_delete_in_prod\n",
      "CPU times: user 336 ms, sys: 35 ms, total: 371 ms\n",
      "Wall time: 3.6 s\n"
     ]
    }
   ],
   "source": [
    "%%time\n",
    "cashbac_key='Cashbac-GCP-Keys.json'\n",
    "horego_key='Horego-GCP-Keys.json'\n",
    "\n",
    "#############################################################################################\n",
    "\n",
    "src_path_file='results/input_list_delete_in_prod.csv'\n",
    "target_path_file='scrapping_results/input_list_delete_in_prod.csv'\n",
    "bucket_name='cashbac_datalake'\n",
    "upload_file_to_GCS(cashbac_key,bucket_name,src_path_file,target_path_file)\n",
    "\n",
    "table_schema = \"cashbac_datalake_prod\"\n",
    "table_name = \"list_delete_in_prod\"\n",
    "gcs_path_uri = f\"gs://{bucket_name}/scrapping_results/input_list_delete_in_prod.csv\"\n",
    "create_table_from_gcs(cashbac_key,gcs_path_uri,table_schema,table_name,my_schema,'append')"
   ]
  },
  {
   "cell_type": "code",
   "execution_count": null,
   "id": "32ca319c-b19c-48e1-85e4-fffb22edf86f",
   "metadata": {},
   "outputs": [],
   "source": []
  },
  {
   "cell_type": "markdown",
   "id": "5347dd82-30f5-457f-b521-269aa04283c5",
   "metadata": {},
   "source": [
    "##### DELETE UNWANTED NAME"
   ]
  },
  {
   "cell_type": "code",
   "execution_count": 8,
   "id": "5ccea76f-0c3c-4903-a6c9-3cea23ebaa82",
   "metadata": {},
   "outputs": [
    {
     "name": "stderr",
     "output_type": "stream",
     "text": [
      "100%|███████████████████████████████████████████████████████████████████████████████████████████████████████████████████████████████████████████████████████████████████████| 39/39 [00:13<00:00,  2.79it/s]\n"
     ]
    }
   ],
   "source": [
    "try:\n",
    "    cursor.close()\n",
    "    conn_details.close()\n",
    "except:\n",
    "    pass\n",
    "    \n",
    "conn_details=db_connect_cashbac_nopool('uat-cashbac-db.ciwxizsaix0m.ap-southeast-1.rds.amazonaws.com','cashbacdb','data_ds','data123')\n",
    "cursor = conn_details.cursor()\n",
    "\n",
    "for name in tqdm(name_exclude.KEYWORD):\n",
    "\n",
    "    delete_query=f\"\"\"\n",
    "        DELETE FROM cbmerchant.outlet\n",
    "        WHERE lower(outlet_name) like lower('%{name}%')\n",
    "    \"\"\"\n",
    "\n",
    "    cursor.execute(delete_query)\n",
    "    conn_details.commit()\n",
    "    \n",
    "cursor.close()\n",
    "conn_details.close()"
   ]
  },
  {
   "cell_type": "code",
   "execution_count": 13,
   "id": "3c774d33-7041-43a8-b926-78329bd163b8",
   "metadata": {
    "scrolled": true
   },
   "outputs": [],
   "source": [
    "# where_condition=''\n",
    "# for name in tqdm(name_exclude.KEYWORD.unique()):\n",
    "#     where_condition=where_condition+' '+f\"\"\"or lower(name) like lower('%{name}%')\"\"\"\n",
    "\n",
    "# delete_query=f\"\"\"\n",
    "#     DELETE FROM `cashbac-31433.cashbac_datalake_dev.outcrapper_google_results`\n",
    "#     where{where_condition[3:]}\n",
    "# \"\"\"\n",
    "# query_job=cashbac_bqclient.query(delete_query).result(timeout=None)\n",
    "\n",
    "# delete_query=f\"\"\"\n",
    "#     DELETE FROM `horego-big-query.horego_datalake_dev.outcrapper_google_results`\n",
    "#     where{where_condition[3:]}\n",
    "# \"\"\"\n",
    "# query_job=horego_bqclient.query(delete_query).result(timeout=None)"
   ]
  },
  {
   "cell_type": "code",
   "execution_count": 12,
   "id": "ac06fb03-34ec-4078-9fa2-fb0816e9e4d5",
   "metadata": {},
   "outputs": [
    {
     "data": {
      "text/plain": [
       "\"de'cafe (car wash- fl detailing- cafe - vape shop)\""
      ]
     },
     "execution_count": 12,
     "metadata": {},
     "output_type": "execute_result"
    }
   ],
   "source": [
    "name_exclude.KEYWORD[49]"
   ]
  },
  {
   "cell_type": "code",
   "execution_count": 14,
   "id": "f3607466-bb13-47f6-9b2d-0c687550ffa7",
   "metadata": {},
   "outputs": [],
   "source": [
    "# for name in tqdm(name_exclude.KEYWORD):\n",
    "    \n",
    "#     delete_query=f\"\"\"\n",
    "#         DELETE FROM `cashbac-31433.cashbac_datalake_dev.outcrapper_google_results`\n",
    "#         WHERE lower(name) like lower('%{name}%')\n",
    "#     \"\"\"\n",
    "#     query_job=cashbac_bqclient.query(delete_query).result(timeout=None)\n",
    "    \n",
    "#     delete_query=f\"\"\"\n",
    "#         DELETE FROM `horego-big-query.horego_datalake_dev.outcrapper_google_results`\n",
    "#         WHERE lower(name) like lower('%{name}%')\n",
    "#     \"\"\"\n",
    "#     query_job=horego_bqclient.query(delete_query).result(timeout=None)"
   ]
  }
 ],
 "metadata": {
  "kernelspec": {
   "display_name": "Python 3 (ipykernel)",
   "language": "python",
   "name": "python3"
  },
  "language_info": {
   "codemirror_mode": {
    "name": "ipython",
    "version": 3
   },
   "file_extension": ".py",
   "mimetype": "text/x-python",
   "name": "python",
   "nbconvert_exporter": "python",
   "pygments_lexer": "ipython3",
   "version": "3.10.11"
  }
 },
 "nbformat": 4,
 "nbformat_minor": 5
}
